{
 "cells": [
  {
   "cell_type": "markdown",
   "metadata": {},
   "source": [
    "# Taller de Física Computacional\n",
    "\n",
    "Carlos Ruestes / Cristián Sánchez - Taller de Física Computacional - FCEN - UNCUYO\n",
    "\n",
    "# Sesión 11: Optimización"
   ]
  },
  {
   "cell_type": "markdown",
   "metadata": {},
   "source": [
    "Podemos definir un *problema de optimización* como el problema de encontrar el \"mejor\" elemento dentro de un posible conjunto (o dominio) en base a un criterio de cual elemento es mejor que otro. Un ejemplo muy común en muchas disciplinas es el encontrar los parámetros de una función que mejor \"ajustan\" un resultado experimental. \n",
    "\n",
    "Para ser más estrictos, dada una función $f(x,\\{p_i\\})$ donde $x \\in \\mathbb R$ y $\\{p_i\\}$ es un conjunto de parámetros, dada una muestra que consiste en un conjunto de $N$ pares ordenados $(x_j,y_j)$. El \"mejor\" conjunto de parámetros $\\{p_i\\}_{\\mathrm{best}}$ es aquel que minimiza la función\n",
    "\n",
    "$$ E(\\{p_i\\}) = \\frac{1}{N} \\sum_{j=1}^N (f(x_j,\\{p_i\\})-y_j)^2. $$\n",
    "\n",
    "Este problema de optimización en particular se conoce como *problema de mínimos cuadrados* porque optimiza el conjunto de parámetros para minimizar la desviación cuadrática media de la función $f$ sobre el espacio de parámetros posibles. El caso más simple que se puede plantear es el \"ajuste de una recta\" a un conjunto de puntos.\n",
    "\n",
    "En este *notebook* se utilizan rutinas de optimización del paquete *SciPy* para encontrar el mejor polinomio de grado tres que ajusta un conjunto de datos."
   ]
  },
  {
   "cell_type": "markdown",
   "metadata": {},
   "source": [
    "Como siempre, cargamos los paquetes que utilizaremos"
   ]
  },
  {
   "cell_type": "code",
   "execution_count": 18,
   "metadata": {},
   "outputs": [],
   "source": [
    "import numpy as np\n",
    "import matplotlib.pyplot as plt\n",
    "import scipy.optimize as opt"
   ]
  },
  {
   "cell_type": "markdown",
   "metadata": {},
   "source": [
    "Nuestra función $f(x,\\{p_i\\})$ será un polinomio de grado tres que definimos de la forma $f(x)=a(x-x_1)(x-x_2)(x-x_3)$, pasamos los parámetros $(a,x_1,x_2,x_3)$ en un vector `p`:"
   ]
  },
  {
   "cell_type": "code",
   "execution_count": 19,
   "metadata": {},
   "outputs": [],
   "source": [
    "def mif(x,p):\n",
    "    x_1 = p[0]\n",
    "    x_2 = p[1]\n",
    "    x_3 = p[2]\n",
    "    a = p[3]\n",
    "    return a*(x-x_1)*(x-x_2)*(x-x_3)"
   ]
  },
  {
   "cell_type": "code",
   "execution_count": 20,
   "metadata": {},
   "outputs": [
    {
     "data": {
      "text/plain": [
       "[<matplotlib.lines.Line2D at 0x7f8638182278>]"
      ]
     },
     "execution_count": 20,
     "metadata": {},
     "output_type": "execute_result"
    },
    {
     "data": {
      "image/png": "[encoded data removed]",
      "text/plain": [
       "<Figure size 432x288 with 1 Axes>"
      ]
     },
     "metadata": {
      "needs_background": "light"
     },
     "output_type": "display_data"
    }
   ],
   "source": [
    "plt.plot(np.linspace(-2,4,1000),mif(np.linspace(-2,4,1000),[-1.0,1.0,2.5,2.0]))"
   ]
  },
  {
   "cell_type": "markdown",
   "metadata": {},
   "source": [
    "En vez de utilizar un conjunto de datos \"experimentales\" vamos a generarlo de forma aleatoria. Para ello utilizaremos algunas funciones del generador de números aleatorios incluido en el paquete *NumPy*.  Estrictamente `Python` siempre devolverá una secuencia de números *pseudoaleatorios*. El generador es estrictamente determinista. Los números pseudoaleatorios son utilizados en muchos campos de la física computacional y la estadística y conviene estar mínimamente familiarizados con su uso. Lo primero que hacemos es \"sembrar\" el generador, de esta forma, cada vez que se llamen rutinas de generación de números aleatorios obtendremos una secuencia diferente. Para hacer que la secuencia sea siempre la misma podemos pasar un valor como parámetro a la rutina de la forma `np.random.seed(1234)`."
   ]
  },
  {
   "cell_type": "code",
   "execution_count": 21,
   "metadata": {},
   "outputs": [],
   "source": [
    "np.random.seed()"
   ]
  },
  {
   "cell_type": "markdown",
   "metadata": {},
   "source": [
    "En la siguiente celda generamos el conjunto de $N$ pares ordenados $(x_j,y_j)$. La forma en que los generamos es:\n",
    "\n",
    "- Primero muestremos en forma aleatoria el intervalo $[x_{\\mathrm lb},x_{\\mathrm ub})$ generando $N$ números aleatorios con una distribución uniforme en el intervalo $[0,1)$ y los escaleamos multiplicando por $(x_{\\mathrm ub}-x_{\\mathrm lb})$ y los \"corremos\" sumando $x_{\\mathrm lb}$.\n",
    "- Luego evaluamos $f(x_j,\\mathbf{p})$ y sumamos a ese resultado un número aleatorio obtenido de una distribución Gaussiana de $\\sigma = 1$ y multiplicado por el valor deeseado de $\\sigma$.\n",
    "\n",
    "De esta forma generamos un conjunto de pares ordenados uniformemente en las abscisa y para cada ordenada agregamos un \"ruido\" Gaussiano. \n",
    "\n",
    "Esta es una de muchas formas de obtener una distribución de prueba para \"jugar\" con nuestro problema de optimización."
   ]
  },
  {
   "cell_type": "code",
   "execution_count": 22,
   "metadata": {},
   "outputs": [],
   "source": [
    "N = 1000\n",
    "x_ub = 4\n",
    "x_lb = -2\n",
    "sigma = 5.0\n",
    "p = np.array([-1.0,1.0,2.5,2.0])\n",
    "\n",
    "x_data = np.random.rand((N)) * (x_ub - x_lb) + x_lb\n",
    "y_data = np.zeros_like(x_data)\n",
    "\n",
    "for j in range(0,1000):\n",
    "    y_data[j] = mif(x_data[j],p) + np.random.standard_normal() * sigma"
   ]
  },
  {
   "cell_type": "markdown",
   "metadata": {},
   "source": [
    "Aquí dibujamos la función y nuestra muestra de evaluaciones:"
   ]
  },
  {
   "cell_type": "code",
   "execution_count": 23,
   "metadata": {},
   "outputs": [
    {
     "data": {
      "text/plain": [
       "[<matplotlib.lines.Line2D at 0x7f863812a3c8>]"
      ]
     },
     "execution_count": 23,
     "metadata": {},
     "output_type": "execute_result"
    },
    {
     "data": {
      "image/png": "[encoded data removed]",
      "text/plain": [
       "<Figure size 432x288 with 1 Axes>"
      ]
     },
     "metadata": {
      "needs_background": "light"
     },
     "output_type": "display_data"
    }
   ],
   "source": [
    "plt.scatter(x_data,y_data,marker='o',s=2.0,color='green')\n",
    "plt.plot(np.linspace(x_lb,x_ub,1000),mif(np.linspace(x_lb,x_ub,1000),[-1.0,1.0,2.5,2.0]),color='red',linewidth='2.0')"
   ]
  },
  {
   "cell_type": "markdown",
   "metadata": {},
   "source": [
    "Aquí definimos nuestra **función objetivo** como la media de las desviaciones cuadráticas para cada punto de la muestra:"
   ]
  },
  {
   "cell_type": "code",
   "execution_count": 24,
   "metadata": {},
   "outputs": [],
   "source": [
    "def objective(params):\n",
    "    objective = 0.0\n",
    "    for i in range(0,N):\n",
    "        objective += (mif(x_data[i],params) - y_data[i])**2\n",
    "    return objective"
   ]
  },
  {
   "cell_type": "markdown",
   "metadata": {},
   "source": [
    "Aquí llamamos la rutina `optimize` para encontrar un vector $\\mathbf{p}$ que minimice $E(\\mathbf{p})$. Así como hiicimos para la integración de ecuaciones diferenciales, pasamos a la función como parámetros:\n",
    "\n",
    "- nuestra función objetivo `objective`.\n",
    "- un vector inicial de prueba a partir del cual se comenzará la optimización `params0`\n",
    "- un método a utilizar, en este caso el algoritmo *SIMPLEX* o de *Nelder-Mead* (para ver una lista completa de los métodos disponibles consultar la [documentación](https://docs.scipy.org/doc/scipy/reference/generated/scipy.optimize.minimize.html#scipy.optimize.minimize)\n",
    "- la tolerancia `tol`. Esta tolerancia será el criterio de finalización del optimizador, cuando una iteración cause un cambio en la función objetivo menor o igual a `tol` parará.\n",
    "- por último pasamos una estructura de datos que no hemos visto nunca hasta ahora llamada **diccionario** conteniendo una serie de parámetros que son específicos para cada método de optimización, en este caso un número máximo de iteraciones y el booleano `disp` que escribe al finalizar una serie de datos sobree el proceso"
   ]
  },
  {
   "cell_type": "code",
   "execution_count": 26,
   "metadata": {},
   "outputs": [
    {
     "name": "stdout",
     "output_type": "stream",
     "text": [
      "Optimization terminated successfully.\n",
      "         Current function value: 24368.082658\n",
      "         Iterations: 447\n",
      "         Function evaluations: 782\n"
     ]
    }
   ],
   "source": [
    "params0 = np.array([0.0,0.0,0.0,0.5])\n",
    "res = opt.minimize(objective, params0, method='nelder-mead', tol=1e-9\n",
    "                   ,options={'disp': True, 'maxiter' : 4000})"
   ]
  },
  {
   "cell_type": "markdown",
   "metadata": {},
   "source": [
    "El resultado final de la optimización se encuentra en el vector `x` que es una propiedad del objeto almacenado en `res`:"
   ]
  },
  {
   "cell_type": "code",
   "execution_count": 27,
   "metadata": {},
   "outputs": [
    {
     "data": {
      "text/plain": [
       "array([-0.94795757,  1.03953181,  2.48601201,  1.99789449])"
      ]
     },
     "execution_count": 27,
     "metadata": {},
     "output_type": "execute_result"
    }
   ],
   "source": [
    "res.x"
   ]
  },
  {
   "cell_type": "markdown",
   "metadata": {},
   "source": [
    "Podemos observar también el valor de la función objetivo en el conjunto de parámetros iniciales, en el final y en los que utilizamos para generar la muestra:"
   ]
  },
  {
   "cell_type": "code",
   "execution_count": 28,
   "metadata": {},
   "outputs": [
    {
     "name": "stdout",
     "output_type": "stream",
     "text": [
      "Valor inicial =  70621.08125907433\n",
      "Valor final =  24368.082657953863\n",
      "Valor con nuestra función =  24673.85123740643\n"
     ]
    }
   ],
   "source": [
    "print('Valor inicial = ',objective(params0))\n",
    "print('Valor final = ',objective(res.x))\n",
    "print('Valor con nuestra función = ',objective(np.array([-1.0,2.5,1.0,2.0])))"
   ]
  },
  {
   "cell_type": "markdown",
   "metadata": {},
   "source": [
    "**Preguntas:**:\n",
    "\n",
    "- ¿Encontró la rutina el mínimo de la función objetivo?\n",
    "- ¿Porqué los valores encontrados para los parámetros no son los mismos que los que utilizamos para generar la muestra?\n",
    "- ¿La función objetivo tiene un único mínimo?"
   ]
  },
  {
   "cell_type": "markdown",
   "metadata": {},
   "source": [
    "Para ayudar a responder podemos empezar desdee otro lugar distinto:"
   ]
  },
  {
   "cell_type": "code",
   "execution_count": 11,
   "metadata": {},
   "outputs": [
    {
     "name": "stdout",
     "output_type": "stream",
     "text": [
      "Optimization terminated successfully.\n",
      "         Current function value: 23485.935470\n",
      "         Iterations: 181\n",
      "         Function evaluations: 338\n"
     ]
    }
   ],
   "source": [
    "params0 = np.array([-0.9,2.3,1.2,2.5])\n",
    "res = opt.minimize(objective, params0, method='nelder-mead', tol=1e-9\n",
    "                   ,options={'disp': True, 'maxiter' : 4*1000})"
   ]
  },
  {
   "cell_type": "code",
   "execution_count": 12,
   "metadata": {},
   "outputs": [
    {
     "name": "stdout",
     "output_type": "stream",
     "text": [
      "Valor inicial =  43149.70777479721\n",
      "Valor final =  23485.935469719527\n",
      "Valor con nuestra función =  23576.965631616455\n"
     ]
    }
   ],
   "source": [
    "print('Valor inicial = ',objective(params0))\n",
    "print('Valor final = ',objective(res.x))\n",
    "print('Valor con nuestra función = ',objective(np.array([-1.0,2.5,1.0,2.0])))"
   ]
  },
  {
   "cell_type": "markdown",
   "metadata": {},
   "source": [
    "¿Este resultado modifica sus respuestas anteriores?"
   ]
  },
  {
   "cell_type": "code",
   "execution_count": 13,
   "metadata": {},
   "outputs": [
    {
     "data": {
      "text/plain": [
       "<matplotlib.collections.PathCollection at 0x1014d40d10>"
      ]
     },
     "execution_count": 13,
     "metadata": {},
     "output_type": "execute_result"
    },
    {
     "data": {
      "image/png": "[encoded data removed]",
      "text/plain": [
       "<Figure size 432x288 with 1 Axes>"
      ]
     },
     "metadata": {
      "needs_background": "light"
     },
     "output_type": "display_data"
    }
   ],
   "source": [
    "xs = np.linspace(x_lb,x_ub,1000)\n",
    "plt.plot(xs,mif(xs,[-1.0,2.5,1.0,2.0]),color='red',linewidth='2.0')\n",
    "plt.plot(xs,mif(xs,res.x),color='blue',linewidth='2.0')\n",
    "plt.scatter(x_data,y_data,marker='o',s=2.0,color='green')"
   ]
  },
  {
   "cell_type": "markdown",
   "metadata": {},
   "source": [
    "Utilicemos un método de optimización distinto:"
   ]
  },
  {
   "cell_type": "code",
   "execution_count": 14,
   "metadata": {},
   "outputs": [
    {
     "name": "stdout",
     "output_type": "stream",
     "text": [
      "Warning: Desired error not necessarily achieved due to precision loss.\n",
      "         Current function value: 23485.935470\n",
      "         Iterations: 18\n",
      "         Function evaluations: 367\n",
      "         Gradient evaluations: 61\n"
     ]
    }
   ],
   "source": [
    "params0 = np.array([-0.9,2.3,1.2,2.5])\n",
    "res = opt.minimize(objective, params0, method='BFGS', tol=1e-9\n",
    "                   ,options={'disp': True, 'maxiter' : 4*1000})"
   ]
  },
  {
   "cell_type": "code",
   "execution_count": 15,
   "metadata": {},
   "outputs": [
    {
     "data": {
      "text/plain": [
       "array([-0.96829627,  2.46124274,  1.02513444,  1.95884205])"
      ]
     },
     "execution_count": 15,
     "metadata": {},
     "output_type": "execute_result"
    }
   ],
   "source": [
    "res.x"
   ]
  },
  {
   "cell_type": "code",
   "execution_count": 16,
   "metadata": {},
   "outputs": [
    {
     "name": "stdout",
     "output_type": "stream",
     "text": [
      "Valor inicial =  43149.70777479721\n",
      "Valor final =  23485.93546971964\n",
      "Valor con nuestra función =  23576.965631616455\n"
     ]
    }
   ],
   "source": [
    "print('Valor inicial = ',objective(params0))\n",
    "print('Valor final = ',objective(res.x))\n",
    "print('Valor con nuestra función = ',objective(np.array([-1.0,2.5,1.0,2.0])))"
   ]
  },
  {
   "cell_type": "code",
   "execution_count": 17,
   "metadata": {},
   "outputs": [
    {
     "data": {
      "text/plain": [
       "<matplotlib.collections.PathCollection at 0x1014db7b50>"
      ]
     },
     "execution_count": 17,
     "metadata": {},
     "output_type": "execute_result"
    },
    {
     "data": {
      "image/png": "[encoded data removed]",
      "text/plain": [
       "<Figure size 432x288 with 1 Axes>"
      ]
     },
     "metadata": {
      "needs_background": "light"
     },
     "output_type": "display_data"
    }
   ],
   "source": [
    "xs = np.linspace(x_lb,x_ub,1000)\n",
    "plt.plot(xs,mif(xs,[-1.0,2.5,1.0,2.0]),color='red',linewidth='2.0')\n",
    "plt.plot(xs,mif(xs,res.x),color='blue',linewidth='2.0')\n",
    "plt.scatter(x_data,y_data,marker='o',s=2.0,color='green')"
   ]
  },
  {
   "cell_type": "markdown",
   "metadata": {},
   "source": [
    "**Preguntas**:\n",
    "\n",
    "- ¿Cuál método es *mejor*?\n",
    "- ¿Por qué?\n",
    "\n",
    "Notar que el método `BFGS` o Broyden-Fletcher-Goldfarb-Shanno requiere del gradiente de la función objetivo respecto a los parámetros para funcionar. En nuestro caso, al no proveer una rutina para el gradiente, la rutina lo estima utilizando una aproximación de diferencias finitas como las que utilizamos en sesiones anteriores."
   ]
  },
  {
   "cell_type": "markdown",
   "metadata": {},
   "source": [
    "**Ejercicio**\n",
    "\n",
    "En un nuevo notebook utilize la rutina `optim` para encontrar el mínimo global de la [función de Rosenbrock](http://mathworld.wolfram.com/RosenbrockFunction.html)"
   ]
  }
 ],
 "metadata": {
  "@webio": {
   "lastCommId": null,
   "lastKernelId": null
  },
  "kernelspec": {
   "display_name": "Python 3",
   "language": "python",
   "name": "python3"
  },
  "language_info": {
   "codemirror_mode": {
    "name": "ipython",
    "version": 3
   },
   "file_extension": ".py",
   "mimetype": "text/x-python",
   "name": "python",
   "nbconvert_exporter": "python",
   "pygments_lexer": "ipython3",
   "version": "3.7.3"
  }
 },
 "nbformat": 4,
 "nbformat_minor": 2
}
