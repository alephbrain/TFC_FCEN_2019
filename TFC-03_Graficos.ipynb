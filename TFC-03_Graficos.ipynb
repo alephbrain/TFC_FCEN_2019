{
 "cells": [
  {
   "cell_type": "markdown",
   "metadata": {},
   "source": [
    "# Taller de Física Computacional\n",
    "\n",
    "# Sesión 3: Gráficos"
   ]
  },
  {
   "cell_type": "markdown",
   "metadata": {},
   "source": [
    "## Gráficos simples\n",
    "\n",
    "Vamos a a aprender como graficar funciones. Uno de los paquetes de graficación más utilizados en Python es el subpaquete `pyplot` que se encuentra en la librería `matplotlib` Para armar un gráfico simple necesitamos un conjunto de puntos definidos de forma fal que sus absisas estén en una lista y sus ordenadas en otra."
   ]
  },
  {
   "cell_type": "code",
   "execution_count": null,
   "metadata": {},
   "outputs": [],
   "source": [
    "import matplotlib.pyplot as plt\n",
    "import math as m"
   ]
  },
  {
   "cell_type": "code",
   "execution_count": null,
   "metadata": {},
   "outputs": [],
   "source": [
    "xs = [0.0, 1.0 , 2.0, 3.0]"
   ]
  },
  {
   "cell_type": "code",
   "execution_count": null,
   "metadata": {},
   "outputs": [],
   "source": [
    "ys = [0.0, 1.0, 4.0, 9.0 ]"
   ]
  },
  {
   "cell_type": "code",
   "execution_count": null,
   "metadata": {},
   "outputs": [],
   "source": [
    "plt.plot(xs,ys)"
   ]
  },
  {
   "cell_type": "code",
   "execution_count": null,
   "metadata": {},
   "outputs": [],
   "source": [
    "plt.plot(xs,ys,color='red',linewidth='2.0',marker='o',label='parábola')\n",
    "plt.xlim(0,5)\n",
    "plt.ylim(0,10)\n",
    "plt.xlabel('abcisas')\n",
    "plt.ylabel('ordenadas')\n",
    "plt.title('Mi Bello Gráfico')\n",
    "plt.grid(True)\n",
    "plt.legend(loc=2)\n",
    "plt.text(3.1,9,'Este punto es el último')"
   ]
  },
  {
   "cell_type": "code",
   "execution_count": null,
   "metadata": {},
   "outputs": [],
   "source": [
    "nx = 100\n",
    "xmin = -m.pi\n",
    "xmax = m.pi"
   ]
  },
  {
   "cell_type": "code",
   "execution_count": null,
   "metadata": {},
   "outputs": [],
   "source": [
    "xs = []\n",
    "ys = []\n",
    "for (i,x) in enumerate(range(nx)):\n",
    "    x = xmin + i * (xmax - xmin)/nx\n",
    "    y = m.cos(3*x)\n",
    "    xs.append(x)\n",
    "    ys.append(y)"
   ]
  },
  {
   "cell_type": "code",
   "execution_count": null,
   "metadata": {},
   "outputs": [],
   "source": [
    "plt.plot(xs,ys)"
   ]
  },
  {
   "cell_type": "code",
   "execution_count": null,
   "metadata": {},
   "outputs": [],
   "source": [
    "def generar_puntos(f,xmin,xmax,nx):\n",
    "    xs = []\n",
    "    ys = []\n",
    "    for i in range(nx):\n",
    "        x = xmin + i * (xmax - xmin)/nx\n",
    "        y = f(x)\n",
    "        xs.append(x)\n",
    "        ys.append(y)\n",
    "    return xs, ys"
   ]
  },
  {
   "cell_type": "code",
   "execution_count": null,
   "metadata": {},
   "outputs": [],
   "source": [
    "xs, ys = generar_puntos(lambda x: (m.cos(10*x)*m.exp(-x)),0,5,1000)\n",
    "plt.plot(xs,ys)"
   ]
  },
  {
   "cell_type": "code",
   "execution_count": null,
   "metadata": {},
   "outputs": [],
   "source": [
    "xs, ys = generar_puntos(lambda x: 10**x,0,5,1000)\n",
    "plt.plot(xs,ys)\n",
    "plt.yscale('log')"
   ]
  },
  {
   "cell_type": "markdown",
   "metadata": {},
   "source": [
    "- Grafica otras funciones que se te ocurran\n",
    "- ¿Puedes hacer un gráfico del error en función de $h$ de las aproximaciones a la derivada que hicimos en la sesión anterior?"
   ]
  },
  {
   "cell_type": "markdown",
   "metadata": {},
   "source": [
    "## Gráficos de funciones paramétricas"
   ]
  },
  {
   "cell_type": "code",
   "execution_count": null,
   "metadata": {},
   "outputs": [],
   "source": [
    "def generar_puntos_parametric(f_x,f_y,tita_min=0.0,tita_max=2*m.pi,ntita=10000):\n",
    "    xs = []\n",
    "    ys = []\n",
    "    for i in range(ntita):\n",
    "        tita = tita_min + i * (tita_max - tita_min)/ntita\n",
    "        x = f_x(tita)\n",
    "        y = f_y(tita)\n",
    "        xs.append(x)\n",
    "        ys.append(y)\n",
    "    return xs, ys"
   ]
  },
  {
   "cell_type": "code",
   "execution_count": null,
   "metadata": {},
   "outputs": [],
   "source": [
    "xs, ys = generar_puntos_parametric(lambda x: m.cos(x),lambda x: m.sin(x))\n",
    "plt.plot(xs,ys)"
   ]
  },
  {
   "cell_type": "code",
   "execution_count": null,
   "metadata": {},
   "outputs": [],
   "source": [
    "figura = plt.figure()\n",
    "ejes = figura.add_subplot(1,1,1)\n",
    "ejes.plot(xs,ys)\n",
    "ejes.set_aspect('equal')"
   ]
  },
  {
   "cell_type": "code",
   "execution_count": null,
   "metadata": {},
   "outputs": [],
   "source": [
    "xs, ys = generar_puntos_parametric(lambda x: m.cos(3*x),\n",
    "                                   lambda x: m.sin(4.0*x),\n",
    "                                   tita_max=20*m.pi)\n",
    "figura = plt.figure(figsize=(9.0,9.0))\n",
    "ejes = figura.add_subplot(1,1,1)\n",
    "ejes.plot(xs,ys)\n",
    "ejes.set_aspect('equal')"
   ]
  },
  {
   "cell_type": "code",
   "execution_count": null,
   "metadata": {},
   "outputs": [],
   "source": [
    "xs, ys = generar_puntos_parametric(lambda x: m.cos(3*x),\n",
    "                                   lambda x: m.sin(4.05*x),\n",
    "                                   tita_max=20*m.pi)\n",
    "figura = plt.figure(figsize=(9.0,9.0))\n",
    "ejes = figura.add_subplot(1,1,1)\n",
    "ejes.plot(xs,ys)\n",
    "ejes.set_aspect('equal')"
   ]
  },
  {
   "cell_type": "code",
   "execution_count": null,
   "metadata": {},
   "outputs": [],
   "source": [
    "xs, ys = generar_puntos_parametric(lambda x: m.cos(3*x),\n",
    "                                   lambda x: m.sin(m.pi*x),\n",
    "                                   tita_max=100*m.pi)\n",
    "figura = plt.figure(figsize=(9.0,9.0))\n",
    "ejes = figura.add_subplot(1,1,1)\n",
    "ejes.plot(xs,ys)\n",
    "ejes.set_aspect('equal')"
   ]
  },
  {
   "cell_type": "markdown",
   "metadata": {},
   "source": [
    "## Gráficos de funciones polares"
   ]
  },
  {
   "cell_type": "code",
   "execution_count": null,
   "metadata": {},
   "outputs": [],
   "source": [
    "def generar_puntos_polar(f,tita_min=0.0,tita_max=2*m.pi,ntita=10000):\n",
    "    xs = []\n",
    "    ys = []\n",
    "    for i in range(ntita):\n",
    "        tita = tita_min + i * (tita_max - tita_min)/ntita\n",
    "        r = f(tita)\n",
    "        x = r * m.cos(tita)\n",
    "        y = r * m.sin(tita)\n",
    "        xs.append(x)\n",
    "        ys.append(y)\n",
    "    return xs, ys"
   ]
  },
  {
   "cell_type": "code",
   "execution_count": null,
   "metadata": {},
   "outputs": [],
   "source": [
    "x1, y1 = generar_puntos_parametric(lambda x: m.cos(x)/(1+m.sin(x)**2)\n",
    "                             ,lambda x: m.sin(x)*m.cos(x)/(1+m.sin(x)**2))"
   ]
  },
  {
   "cell_type": "code",
   "execution_count": null,
   "metadata": {},
   "outputs": [],
   "source": [
    "x2, y2 = generar_puntos_polar(lambda x: (1+m.cos(x)))"
   ]
  },
  {
   "cell_type": "code",
   "execution_count": null,
   "metadata": {},
   "outputs": [],
   "source": [
    "x3, y3 = generar_puntos_polar(lambda x: x,tita_max=10*m.pi)"
   ]
  },
  {
   "cell_type": "code",
   "execution_count": null,
   "metadata": {},
   "outputs": [],
   "source": [
    "x4, y4 = generar_puntos_polar(lambda x: 1)"
   ]
  },
  {
   "cell_type": "code",
   "execution_count": null,
   "metadata": {},
   "outputs": [],
   "source": [
    "figura = plt.figure(figsize=(9.0,9.0))\n",
    "figura.subplots_adjust(hspace=0.3, wspace=0.3)\n",
    "\n",
    "ejes1 = figura.add_subplot(2,2,1)\n",
    "ejes1.set_title('lemniscata')\n",
    "ejes2 = figura.add_subplot(2,2,2)\n",
    "ejes2.set_title('cardioide')\n",
    "ejes3 = figura.add_subplot(2,2,3)\n",
    "ejes3.set_title('espiral de Arquímedes')\n",
    "ejes4 = figura.add_subplot(2,2,4)\n",
    "ejes4.set_title('círculo')\n",
    "\n",
    "ejes1.plot(x1,y1,color='red',linewidth='2.0')\n",
    "ejes2.plot(x2,y2,color='red',linewidth='2.0')\n",
    "ejes3.plot(x3,y3,color='red',linewidth='2.0')\n",
    "ejes4.plot(x4,y4,color='red',linewidth='2.0')"
   ]
  },
  {
   "cell_type": "code",
   "execution_count": null,
   "metadata": {},
   "outputs": [],
   "source": [
    "xs, ys = generar_puntos_polar(lambda x: m.cos(3*x))\n",
    "\n",
    "figura = plt.figure(figsize=(9.0,9.0))\n",
    "figura.subplots_adjust(hspace=0.3, wspace=0.3)\n",
    "\n",
    "ejes1 = figura.add_subplot(1,1,1)\n",
    "\n",
    "ejes1.plot(xs,ys,color='red',linewidth='2.0')\n",
    "#ejes1.plot(xs,xs,color='green',linewidth='2.0')\n",
    "ejes1.set_xlim(-1.1,1.1)\n",
    "ejes1.set_ylim(-1.1,1.1)\n",
    "ejes1.set_title('paquerette de mélibée',fontsize=50)\n",
    "ejes1.set_xlabel('x',fontsize=25)\n",
    "ejes1.set_ylabel('y',fontsize=25)\n",
    "for axis in ['top','bottom','left','right']:\n",
    "  ejes1.spines[axis].set_linewidth(2.0)\n",
    "ejes1.xaxis.set_tick_params(width=2.0,length=5.0,labelsize=20)\n",
    "ejes1.yaxis.set_tick_params(width=2.0,length=5.0,labelsize=20)\n",
    "ejes1.grid(True)"
   ]
  },
  {
   "cell_type": "code",
   "execution_count": null,
   "metadata": {},
   "outputs": [],
   "source": [
    "xs, ys = generar_puntos_polar(lambda x: m.cos((2/5)*x),tita_max=10*m.pi)\n",
    "\n",
    "figura = plt.figure(figsize=(9.0,9.0))\n",
    "figura.subplots_adjust(hspace=0.3, wspace=0.3)\n",
    "\n",
    "ejes1 = figura.add_subplot(1,1,1)\n",
    "\n",
    "ejes1.plot(xs,ys,color='red',linewidth='2.0')\n",
    "#ejes1.plot(xs,xs,color='green',linewidth='2.0')\n",
    "ejes1.set_xlim(-1.1,1.1)\n",
    "ejes1.set_ylim(-1.1,1.1)\n",
    "ejes1.set_title('Rosa (coef. racional)',fontsize=50)\n",
    "ejes1.set_xlabel('x',fontsize=25)\n",
    "ejes1.set_ylabel('y',fontsize=25)\n",
    "for axis in ['top','bottom','left','right']:\n",
    "  ejes1.spines[axis].set_linewidth(2.0)\n",
    "ejes1.xaxis.set_tick_params(width=2.0,length=5.0,labelsize=20)\n",
    "ejes1.yaxis.set_tick_params(width=2.0,length=5.0,labelsize=20)\n",
    "ejes1.grid(True)"
   ]
  },
  {
   "cell_type": "code",
   "execution_count": null,
   "metadata": {},
   "outputs": [],
   "source": [
    "xs, ys = generar_puntos_polar(lambda x: m.cos(m.e*x),tita_max=20*m.pi)\n",
    "\n",
    "figura = plt.figure(figsize=(9.0,9.0))\n",
    "figura.subplots_adjust(hspace=0.3, wspace=0.3)\n",
    "\n",
    "ejes1 = figura.add_subplot(1,1,1)\n",
    "\n",
    "ejes1.plot(xs,ys,color='red',linewidth='2.0')\n",
    "#ejes1.plot(xs,xs,color='green',linewidth='2.0')\n",
    "ejes1.set_xlim(-1.1,1.1)\n",
    "ejes1.set_ylim(-1.1,1.1)\n",
    "ejes1.set_title('Rosa (coef. irracional)',fontsize=50)\n",
    "ejes1.set_xlabel('x',fontsize=25)\n",
    "ejes1.set_ylabel('y',fontsize=25)\n",
    "for axis in ['top','bottom','left','right']:\n",
    "  ejes1.spines[axis].set_linewidth(2.0)\n",
    "ejes1.xaxis.set_tick_params(width=2.0,length=5.0,labelsize=20)\n",
    "ejes1.yaxis.set_tick_params(width=2.0,length=5.0,labelsize=20)\n",
    "ejes1.grid(True)"
   ]
  },
  {
   "cell_type": "code",
   "execution_count": null,
   "metadata": {},
   "outputs": [],
   "source": [
    "xs1, ys1 = generar_puntos_polar(lambda x: m.cos(3*x))\n",
    "xs2, ys2 = generar_puntos_polar(lambda x: m.cos(4*x))\n",
    "\n",
    "figura = plt.figure(figsize=(9.0,9.0))\n",
    "figura.subplots_adjust(hspace=0.3, wspace=0.3)\n",
    "\n",
    "ejes1 = figura.add_subplot(1,1,1)\n",
    "\n",
    "ejes1.plot(xs1,ys1,color='red',linewidth='2.0',linestyle='--',label='3')\n",
    "ejes1.plot(xs1,xs2,color='green',linewidth='2.0',linestyle='-',label='4')\n",
    "ejes1.set_xlim(-1.1,1.1)\n",
    "ejes1.set_ylim(-1.1,1.1)\n",
    "ejes1.set_title('$gráficos$',fontsize=50)\n",
    "ejes1.set_xlabel('x',fontsize=25)\n",
    "ejes1.set_ylabel('y',fontsize=25)\n",
    "for axis in ['top','bottom','left','right']:\n",
    "  ejes1.spines[axis].set_linewidth(2.0)\n",
    "ejes1.xaxis.set_tick_params(width=2.0,length=5.0,labelsize=20)\n",
    "ejes1.yaxis.set_tick_params(width=2.0,length=5.0,labelsize=20)\n",
    "ejes1.grid(True)\n",
    "ejes1.legend()"
   ]
  },
  {
   "cell_type": "code",
   "execution_count": null,
   "metadata": {},
   "outputs": [],
   "source": []
  }
 ],
 "metadata": {
  "@webio": {
   "lastCommId": null,
   "lastKernelId": null
  },
  "kernelspec": {
   "display_name": "Python 3",
   "language": "python",
   "name": "python3"
  },
  "language_info": {
   "codemirror_mode": {
    "name": "ipython",
    "version": 3
   },
   "file_extension": ".py",
   "mimetype": "text/x-python",
   "name": "python",
   "nbconvert_exporter": "python",
   "pygments_lexer": "ipython3",
   "version": "3.6.8"
  }
 },
 "nbformat": 4,
 "nbformat_minor": 2
}
