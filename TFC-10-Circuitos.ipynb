{
 "cells": [
  {
   "cell_type": "markdown",
   "metadata": {},
   "source": [
    "# Circuitos\n",
    "\n",
    "### Ejemplos\n",
    "<section class=\"post-meta\">\n",
    "por Carlos Ruestes y Cristián Sánchez\n",
    "</section>\n",
    "Última edición: 01 de Septiembre de 2019"
   ]
  },
  {
   "cell_type": "markdown",
   "metadata": {},
   "source": [
    "### Circuitos RC y RL \n",
    "\n",
    "Los circuitos RC y RL son unos de los ejemplos básicos de los circuitos eléctricos. Aún así, son muy ricos en contenidos. Vamos a examinarlos en profundidad."
   ]
  },
  {
   "cell_type": "markdown",
   "metadata": {},
   "source": [
    "### Circuito RL\n",
    "\n",
    "Los componentes usados en un circuito RL son una fuente de corriente continua (V1), una resistencia (R1) y una inductancia (L1). En el esquema del circuito, la inductancia se utiliza para representar una característica física del circuito. En cierta forma, la inductancia representa una ‘inercia eléctrica’ del circuito. Esta es la razón por la cual la corriente del circuito no salta inmediatamente al valor V/R dado por la ley de Ohm. Eventualmente, la corriente alcanzará el valor V/R luego de un tiempo infinito, pero por razones prácticas, podemos considerar que alcanza ese valor luego de transcurrido determinado tiempo (por ejemplo 4 veces tau = L/R debería ser suficiente)."
   ]
  },
  {
   "cell_type": "markdown",
   "metadata": {},
   "source": [
    "![circuit2](images_RLC/RL.jpg)"
   ]
  },
  {
   "cell_type": "markdown",
   "metadata": {},
   "source": [
    "Lo que podemos esperar es que la corriente obedecerá la siguiente ecuación diferencial dada por la ley de Ohm: "
   ]
  },
  {
   "cell_type": "markdown",
   "metadata": {
    "collapsed": true
   },
   "source": [
    "$$\n",
    "V_1-L_1\\frac{dI(t)}{dt} = R_1 I(t)\n",
    "$$\n",
    "\n",
    "cuya solución exacta es\n",
    "\n",
    "$$\n",
    "I(t)=\\frac{V_1}{R_1}(1-e^{-\\frac{R_1}{L_1}t})\n",
    "$$\n",
    "\n",
    "El código a continuación permite modelar este circuito y graficar su comportamiento"
   ]
  },
  {
   "cell_type": "code",
   "execution_count": 3,
   "metadata": {},
   "outputs": [
    {
     "name": "stdout",
     "output_type": "stream",
     "text": [
      "Inductancia (H): \t0.0229\n",
      "Resistencia (Ohm): \t3.34\n",
      "Tensión CC (V): \t5\n",
      "Corriente (A): \t\t1.4970059880239521\n",
      "Tau: \t\t\t0.006856287425149701\n",
      "Tiempo crítico (s): \t0.03016766467065869\n",
      "\n",
      "\n",
      "Frec de encendido/apagado (Hz): \t16.57403731639539\n",
      "Coeficiente w (2*pi*f) \t104.1377477470217\n"
     ]
    },
    {
     "data": {
      "image/png": "[encoded data removed]",
      "text/plain": [
       "<Figure size 432x288 with 1 Axes>"
      ]
     },
     "metadata": {},
     "output_type": "display_data"
    }
   ],
   "source": [
    "import numpy as np\n",
    "import matplotlib.pyplot as plt\n",
    "\n",
    "plt.style.use('ggplot')\n",
    "\n",
    "l = 0.0229      #Inductancia (H)\n",
    "r = 3.34        #Resistencia (Ohm)\n",
    "v = 5           #Tension CC (V)\n",
    "i = v/r         #Corriente max (A)\n",
    "tau = l/r       #constante de tiempo Tau\n",
    "a = tau * 4.4   #tiempo crítico al cual se conecta/desconecta la batería\n",
    "\n",
    "t = np.linspace(0,2*a,2000) \n",
    "\n",
    "#-------------------------------------------------------------------------------\n",
    "#1er ciclo de encendido\n",
    "\n",
    "def initialCurrent():\n",
    "    current = []\n",
    "    for i in t:\n",
    "        if i <= a:\n",
    "            current.append((v/r)*(1-np.exp((-r/l)*i)))          #I(t) = v/r*[1-exp((-r/l)*t)]\n",
    "        else:\n",
    "            current.append(0)\n",
    "    return np.array(current)\n",
    "\n",
    "#Grafico corriente inicial\n",
    "Icurrent = initialCurrent()\n",
    "plt.plot(t,Icurrent,label='corriente',color='blue')\n",
    "\n",
    "#------------------------------------------------------------------------------\n",
    "#1er ciclo de apagado\n",
    "\n",
    "def laterCurrent():\n",
    "    current = []\n",
    "    for i in t:\n",
    "        if i >= a:\n",
    "            current.append(Icurrent[-1001]*np.exp((-r/l)*(i-a)))  #I(t) = Ir * exp((-r/l)*(t-t0))\n",
    "        else:\n",
    "            current.append(0)\n",
    "    return np.array(current)\n",
    "\n",
    "#Grafico corriente al apagar\n",
    "current_off = laterCurrent()\n",
    "plt.plot(t,current_off,color='blue')\n",
    "\n",
    "\n",
    "#-------------------------------------------------------------------------------\n",
    "#Ciclo de encendido y apagado: encendido y apagado en los ceros de la función it\n",
    "f = 1/(2*a)                 #frequency f = 1/T\n",
    "w = np.pi/a                 #w = 2pi * f\n",
    "it = i*np.sin(w*t)\n",
    "plt.plot(t,it,label='Ciclo On/off',color='green')\n",
    "\n",
    "#Indicar ceros\n",
    "zeros = np.array([0,a,2*a])\n",
    "zeros_i = i*np.sin(w*zeros)\n",
    "plt.plot(zeros,zeros_i,marker='x',markersize=10,label='On y off',color='red')\n",
    "plt.annotate('On',xy=(zeros[0]+0.0005,zeros_i[0]))\n",
    "plt.annotate('Off',xy=(zeros[1]+0.0005,zeros_i[1]))\n",
    "plt.annotate('On',xy=(zeros[2]+0.0005,zeros_i[2]))\n",
    "\n",
    "#Grafico de valor critico\n",
    "plt.plot((a,a+0.00001),(max(it),min(it)),'r',alpha=0.9,label='Valor critico')\n",
    "\n",
    "#-------------------------------------------------------------------------------\n",
    "#Imprimir info\n",
    "print('Inductancia (H):','\\t'+str(l))\n",
    "print('Resistencia (Ohm):','\\t'+str(r))\n",
    "print('Tensión CC (V):','\\t'+str(v))\n",
    "print('Corriente (A):','\\t\\t'+str(i))\n",
    "print('Tau:','\\t\\t\\t'+str(tau))\n",
    "print('Tiempo crítico (s):','\\t'+str(a))\n",
    "print('\\n')\n",
    "print('Frec de encendido/apagado (Hz):','\\t'+str(f))\n",
    "print('Coeficiente w (2*pi*f)','\\t'+str(w))\n",
    "\n",
    "#-------------------------------------------------------------------------------\n",
    "#Configuracion de grafico\n",
    "\n",
    "#eje x\n",
    "plt.plot((0,2*a+0.0005),(0,0),'k',alpha=0.9,markersize=10)\n",
    "\n",
    "#etiquetas de ejes\n",
    "plt.xlabel('tiempo (s)')\n",
    "plt.ylabel('corriente (A)')\n",
    "\n",
    "#Leyendas y limites\n",
    "plt.legend(loc=3,fancybox=True,shadow=True)\n",
    "plt.xlim(-0.002,2*a+0.003)\n",
    "plt.ylim(min(it)-0.05,max(it)+0.05)\n",
    "\n",
    "plt.show()\n",
    "\n",
    "#-------------------------------------------------------------------------------\n",
    "# Output\n",
    "\n",
    "# Inductancia (H): \t0.0229\n",
    "# Resistencia (Ohm): \t3.34\n",
    "# Tension CC (V): \t5\n",
    "# Corriente (A): \t\t1.4970059880239521\n",
    "# Tau: \t\t\t0.006856287425149701\n",
    "# Tiempo critico (s): \t0.03016766467065869\n",
    "\n",
    "\n",
    "# Frecuencia de encendido apagado (Hz): \t16.57403731639539\n",
    "# Coeficiente w (2*pi*f) \t104.1377477470217"
   ]
  },
  {
   "cell_type": "markdown",
   "metadata": {},
   "source": [
    "#### Ejercicio\n",
    "\n",
    "Implemente la resolución numérica de la ecuación diferencial del circuito RL utilizando el método numérico de su preferencia. Grafique, comparando con la solución exacta y estime el error cometido."
   ]
  },
  {
   "cell_type": "markdown",
   "metadata": {},
   "source": [
    "### Circuito RC"
   ]
  },
  {
   "cell_type": "markdown",
   "metadata": {},
   "source": [
    "![circuit3](images_RLC/RC.jpg)"
   ]
  },
  {
   "cell_type": "markdown",
   "metadata": {},
   "source": [
    "Además de una fuente de tensión, el circuito RC se compone de un capacitor y una resistencia, y asumimos que la autoinductancia es despreciable. Cuando cerramos el circuito, la corriente salta al valor V/R y dado que el capacitor se va cargando y se establece un potencial, podemos esperar que la corriente en la resistencia disminuya a medida que transcurre el tiempo. La ecuación diferencial es la siguiente:"
   ]
  },
  {
   "cell_type": "markdown",
   "metadata": {},
   "source": [
    "$$\n",
    "V_1-\\frac{Q(t)}{C} = R_1 \\frac{dQ(t)}{dt} = R_1 I(t)\n",
    "$$\n",
    "\n",
    "cuya solución es\n",
    "\n",
    "$$\n",
    "Q(t)=C V_1 (1-e^{-\\frac{1}{RC}t})\n",
    "$$\n",
    "\n",
    "entonces\n",
    "\n",
    "$$\n",
    "\\frac{dQ}{dt}=I(t)=\\frac{V_1}{R_1} e^{-\\frac{1}{RC}t}\n",
    "$$\n",
    "\n",
    "El código a continuación permite modelar este circuito y graficar su comportamiento"
   ]
  },
  {
   "cell_type": "code",
   "execution_count": 4,
   "metadata": {},
   "outputs": [
    {
     "name": "stdout",
     "output_type": "stream",
     "text": [
      "Tau 5.0\n",
      "Corriente pico (A) 0.0025\n"
     ]
    },
    {
     "data": {
      "image/png": "[encoded data removed]",
      "text/plain": [
       "<Figure size 432x288 with 1 Axes>"
      ]
     },
     "metadata": {},
     "output_type": "display_data"
    }
   ],
   "source": [
    "import numpy as np\n",
    "import matplotlib.pyplot as plt\n",
    "\n",
    "plt.style.use('ggplot')\n",
    "\n",
    "c = 100 * 10**(-6)\n",
    "v = 5\n",
    "r = 2000\n",
    "\n",
    "t = np.linspace(0,1,1000)\n",
    "\n",
    "q = c*v*(1-np.exp((-1/(r*c))*t))\n",
    "i = (v/r)*np.exp((-1/(r*c))*t)\n",
    "\n",
    "plt.plot([0,t[-1]],[c*v,c*v],label='Carga pico')\n",
    "plt.plot(t,q,label='Carga del capacitor (C)')\n",
    "plt.plot(t,i,label='Corriente (A)')\n",
    "\n",
    "print('Tau',1/(r*c))\n",
    "print('Corriente pico (A)',v/r)\n",
    "\n",
    "plt.xlabel('Tiempo (s)')\n",
    "plt.title('Circuito RC')\n",
    "plt.legend()\n",
    "plt.show()"
   ]
  },
  {
   "cell_type": "markdown",
   "metadata": {},
   "source": [
    "#### Ejercicio\n",
    "\n",
    "Implemente la resolución numérica de la ecuación diferencial del circuito RC utilizando el método numérico de su preferencia. Grafique, comparando con la solución exacta y estime el error cometido."
   ]
  },
  {
   "cell_type": "markdown",
   "metadata": {},
   "source": [
    "### Red de resistencias\n",
    "\n",
    "#### Formulación y notación\n",
    "\n",
    "En este caso, consideraremos una red de resistencias que consiste de N unidades repetidas. Cada unidad tiene dos resistencias de magnitud $R$ and $12R$, respectivamente. Las unidades están conectadas a una batería de $V_0$ voltios.\n"
   ]
  },
  {
   "cell_type": "markdown",
   "metadata": {},
   "source": [
    "![circuit1](images_RLC/4ec_image_1.png)"
   ]
  },
  {
   "cell_type": "markdown",
   "metadata": {},
   "source": [
    "El objetivo de este ejemplo es calcular la corriente total que se propaga a través del circuito. La notación utilizada se puede ver en el siguiente ejemplo. "
   ]
  },
  {
   "cell_type": "markdown",
   "metadata": {},
   "source": [
    "![circuit2](images_RLC/4ec_image_2.png)"
   ]
  },
  {
   "cell_type": "markdown",
   "metadata": {},
   "source": [
    "### Caso especial: $N=1$"
   ]
  },
  {
   "cell_type": "markdown",
   "metadata": {},
   "source": [
    "Al resolver un problema como este, es a menudo útil explorar casos particulares, de ser posible, antes de intentar resolver el problema general. Vamos a ver dos casos especiales.\n",
    "\n",
    "Consideremos primero el caso cuando $N=1$. El circuito se ve de la siguiente forma, "
   ]
  },
  {
   "cell_type": "markdown",
   "metadata": {},
   "source": [
    "![circuit2](images_RLC/4ec_image_3.png)"
   ]
  },
  {
   "cell_type": "markdown",
   "metadata": {},
   "source": [
    "Este caso reducido se resuelve fácilmente definiendo $R_{eff}$, la resistencia efectiva (o total) del circuito conectado a la batería. Esto implica que podemos representar al circuito de la siguiente forma,"
   ]
  },
  {
   "cell_type": "markdown",
   "metadata": {},
   "source": [
    "![circuit2](images_RLC/4ec_image_4.png)"
   ]
  },
  {
   "cell_type": "markdown",
   "metadata": {},
   "source": [
    "donde $R_{eff} = R+12R=13R$. Luego, por la ley de Ohm,\n",
    "\n",
    "$$\n",
    "I_{1,1} = \\frac{V_0}{13R} = \\frac{1}{13} \\frac{\\textrm{V}}{\\Omega} \\approx 0.0769 \\textrm{A}\n",
    "$$"
   ]
  },
  {
   "cell_type": "markdown",
   "metadata": {},
   "source": [
    "### Caso especial: $N\\to\\infty$"
   ]
  },
  {
   "cell_type": "markdown",
   "metadata": {},
   "source": [
    "Como otro caso especial, consideremos la situación en la que el número de unidades $N$ va a infinito. En este caso, la solución no es tan trivial. Obviamente, hay más opciones para que la corriente fluya a medida que $N\\to\\infty$. Entonces, es de esperar que la resistencia caiga en este límite. "
   ]
  },
  {
   "cell_type": "markdown",
   "metadata": {},
   "source": [
    "Nuevamente, podemos considerar una resistencia efectiva $R_{eff}$ y representar todo el circuito como antes. Ahora, tomamos el circuito anterior con infinitas unidades repetidas y agregar una unidad más al mismo, de manera que pueda ser representado por el siguiente diagrama de circuito"
   ]
  },
  {
   "cell_type": "markdown",
   "metadata": {},
   "source": [
    "![circuit2](images_RLC/4ec_image_5.png)"
   ]
  },
  {
   "cell_type": "markdown",
   "metadata": {},
   "source": [
    "Dado que $N$ es infinítamente grande, agregar una unidad más no debería cambiar la resistencia efectiva $R_{eff}$ del circuito  en su conjunto. En otras palabras, $12R$ y $R_{eff}$ se encuentran en paralelo en el diagrama anterior y la resistencia total del circuito $R_{total}$ es todavía $R_{eff}$. Con este argumento, podemos relacionar $R_{eff}$ consigo misma\n",
    "\n",
    "$$\n",
    "R_{total} = R_{eff} = R + \\frac{1}{\\frac{1}{12R} + \\frac{1}{R_{eff}}}\n",
    "$$"
   ]
  },
  {
   "cell_type": "markdown",
   "metadata": {},
   "source": [
    "Resolviendo esta expresión en $R_{eff}$ y exigiendo que $R_{eff}$ sea positiva, obtenemos \n",
    "\n",
    "$$\n",
    "R_{eff} = 4R = 4\\Omega\n",
    "$$"
   ]
  },
  {
   "cell_type": "markdown",
   "metadata": {},
   "source": [
    "Empleando ley de Ohm,\n",
    "$$\n",
    "I_{1,1} = \\frac{V_0}{4R} = \\frac{1}{4} \\frac{\\textrm{V}}{\\Omega} \\approx 0.25 \\textrm{A}\n",
    "$$"
   ]
  },
  {
   "cell_type": "markdown",
   "metadata": {},
   "source": [
    "### Armando el sistema de ecuaciones"
   ]
  },
  {
   "cell_type": "markdown",
   "metadata": {},
   "source": [
    "Ahora, regresemos al caso general donde $1<N<\\infty$. Para resolverlo, armamos un sistema de $N$ ecuaciones y $N$ incógnitas que estudiaremos como un problema de matrices. Luego lo resolveremos usando Python. Las incógnitas serán las $N$ tensiones $V_i$, $i=1,\\ldots,N;$."
   ]
  },
  {
   "cell_type": "markdown",
   "metadata": {},
   "source": [
    "Para obtener las $N$ ecuaciones y $N$ incógnitas, primero aplicamos la ley de Ohm a todas las resistencias del circuito. Esto da\n",
    "\n",
    "$$\n",
    "I_{i,1} = \\frac{V_{i-1} - V_i}{R}, \\quad i=1,\\ldots,N;\n",
    "$$\n",
    "\n",
    "para las $N$ resistencias de valor $R$ y\n",
    "\n",
    "$$\n",
    "I_{i,2} = \\frac{V_i}{12R}, \\quad i=1,\\ldots,N;\n",
    "$$\n",
    "\n",
    "para las $N$ resistencias de valor 12R."
   ]
  },
  {
   "cell_type": "markdown",
   "metadata": {},
   "source": [
    "El siguiente paso es eliminar las corrientes $I_{i,1}$ y $I_{i,2}$ para $i=1,\\ldots,N;$ en las ecuaciones arriba. Para hacerlo, recordemos el principio de conservación de la corriente, específicamente, que la suma de las corrientes que ingresan a un nodo es igual a la suma de las corrientes que salen del mismo. (Ver ley de Kirchoff)"
   ]
  },
  {
   "cell_type": "markdown",
   "metadata": {},
   "source": [
    "Para los nodos $V_i$, donde $i=1,\\ldots,N-1;$ tenemos\n",
    "\n",
    "$$\n",
    "I_{i,1} = I_{i,2} + I_{i+1,1}\n",
    "$$\n",
    "\n",
    "Para el último nodo, denominado $V_N$, tenemos\n",
    "\n",
    "$$\n",
    "I_{N,1} = I_{N,2}\n",
    "$$\n"
   ]
  },
  {
   "cell_type": "markdown",
   "metadata": {},
   "source": [
    "Sustituyendo las expresiones anteriores por $I_{i,1}$ y $I_{i,2}$ en cada una de estas últimas dos ecuaciones separadamente, encontramos para el primer nodo $i=1$,\n",
    "\n",
    "$$\n",
    "\\frac{25}{12R} V_1 - \\frac{1}{R}V_2 = V_0\n",
    "$$\n",
    "\n",
    "y para los nodos $V_i$, con $i=2,\\ldots,N-1;$\n",
    "\n",
    "$$\n",
    "-\\frac{1}{R}V_{i-1} + \\frac{25}{12R}V_i - \\frac{1}{R} V_{i+1} = 0\n",
    "$$\n",
    "\n",
    "y para la última ecuación,\n",
    "\n",
    "$$\n",
    "-\\frac{1}{R}V_{N-1} + \\frac{13}{12R}V_N = 0\n",
    "$$\n",
    "\n",
    "Contando el número de ecuaciones, vemos que estas últimas tres expresiones contienen $N$ ecuaciones en total. Este es exactamente la cantidad necesaria para determinar las tensiones $V_i$ con $i=2,\\ldots,N-1;$ unívocamente."
   ]
  },
  {
   "cell_type": "markdown",
   "metadata": {},
   "source": [
    "Más aún, estas ecuaciones pueden ser escritas en forma matricial, $\\mathcal{A}\\boldsymbol{V}=\\boldsymbol{b}$\n",
    "\n",
    "$$\n",
    "\\begin{bmatrix} 25/12R & -1/R  & 0    & \\dots & 0 \\\\ \n",
    "                -1/R  & 25/12R & -1/R & \\dots & 0 \\\\\n",
    "                \\vdots& \\ddots &\\ddots& \\ddots& \\vdots \\\\\n",
    "                0     & \\dots &-1/R  & 25/12R & -1/R  \\\\\n",
    "                0     & \\dots & 0    & -1/R   & 25/12R\n",
    "\\end{bmatrix} \\cdot \n",
    "\\begin{bmatrix} V_1   \\\\ V_2 \\\\ \\vdots \\\\ V_{N-1} \\\\ V_N \\end{bmatrix} =\n",
    "\\begin{bmatrix} V_0/R \\\\ 0   \\\\ \\vdots \\\\ 0       \\\\ 0   \\end{bmatrix} \n",
    "$$"
   ]
  },
  {
   "cell_type": "markdown",
   "metadata": {},
   "source": [
    "Ahora, encontrar las tensiones incógnita significa resolver la ecuación matricial $\\mathcal{A}\\boldsymbol{V}=\\boldsymbol{b}$, para el vector de tensiones desconocidas $\\boldsymbol{V}$. La matriz $\\mathcal{A}$ y el vector $\\boldsymbol{b}$ están dados por las resistencias en el circuito y la tensión $V_0$. En forma subsecuente, podemos calcular la corriente total mediante la ley de Ohm,\n",
    "\n",
    "$$\n",
    "I_{1,1} = \\frac{V_0 - V_1}{R}\n",
    "$$\n",
    "\n",
    "Lo primero que debemos hacer es definir $V_0$, $R$ y $N$."
   ]
  },
  {
   "cell_type": "code",
   "execution_count": 26,
   "metadata": {},
   "outputs": [],
   "source": [
    "R  = 1.0 # Resistencia [Ohm]\n",
    "V0 = 1.0 # Tension aplicada [V]\n",
    "N  = 10  # Numero de unidades resistivas [adim.]"
   ]
  },
  {
   "cell_type": "markdown",
   "metadata": {},
   "source": [
    "Luego, debemos armar la matriz $\\mathcal{A}$ y el vector $\\boldsymbol{b}$. Comenzamos inicializando ambos en cero antes de llenarlos, y definimos dos variables, $a=25/12R$ y $c=-1/R$ para simplificar el llenado."
   ]
  },
  {
   "cell_type": "code",
   "execution_count": 27,
   "metadata": {},
   "outputs": [],
   "source": [
    "# Es importante usar arrays de numpy para asi mejorar\n",
    "# la eficiencia de las operaciones matriciales\n",
    "import numpy as np \n",
    "import time\n",
    "\n",
    "A = np.zeros((N,N)) # Matriz de dimension NxN\n",
    "b = np.zeros(N)     # Vector de longitud N\n",
    "a = 25.0/(12*R)     # Escalar (constante)\n",
    "c = -1.0/R          # Escalar (constante)"
   ]
  },
  {
   "cell_type": "markdown",
   "metadata": {},
   "source": [
    "Luego, armamos $\\boldsymbol{b}$, y $\\mathcal{A}$ fila por fila."
   ]
  },
  {
   "cell_type": "code",
   "execution_count": 28,
   "metadata": {},
   "outputs": [],
   "source": [
    "# el vector b esta compuesto por un primer elemento no nulo y el resto nulo.\n",
    "b[0] = V0/R\n",
    "\n",
    "# armamos primera fila de A\n",
    "A[0,0] = a\n",
    "A[0,1] = c \n",
    "\n",
    "# y armamos ultima fila de A\n",
    "A[N-1,N-1] = a\n",
    "A[N-1,N-2] = c\n",
    "\n",
    "# Armamos el resto de las filas\n",
    "for row in range(1,N-1): #Noten los indices usados\n",
    "    A[row,row-1] = c\n",
    "    A[row,row  ] = a\n",
    "    A[row,row+1] = c\n",
    "\n",
    "# Suele ser buena practica imprimir A para ver que se encuentre adecuadamente inicializada\n",
    "# print(A,b)"
   ]
  },
  {
   "cell_type": "markdown",
   "metadata": {},
   "source": [
    "Luego podemos resolver el sistema de ecuaciones usando el <i>Numerical Python Linear Algebra Solver</i>"
   ]
  },
  {
   "cell_type": "code",
   "execution_count": 29,
   "metadata": {},
   "outputs": [
    {
     "name": "stdout",
     "output_type": "stream",
     "text": [
      "Tensiones =  [0.74895759 0.56032831 0.41839305 0.31132388 0.23019837 0.16825606\n",
      " 0.12033508 0.08244203 0.05141914 0.02468119]\n",
      "\n",
      "I_11     =  0.2510424133814533\n",
      "--- 0.0050127506256103516 segundos ---\n"
     ]
    }
   ],
   "source": [
    "start = time.time()\n",
    "\n",
    "Voltages = np.linalg.solve(A,b)\n",
    "print(\"Tensiones = \", Voltages)\n",
    "\n",
    "I11 = (V0 - Voltages[0])/R\n",
    "print(\"\\nI_11     = \", I11)\n",
    "\n",
    "end = time.time()\n",
    "print(\"--- %s segundos ---\" %(end - start))"
   ]
  },
  {
   "cell_type": "markdown",
   "metadata": {},
   "source": [
    "Vemos que cuando $N$ se hace grande (incluso con $N\\geq15$), $I_{1,1}$ se aproxima al límite que encontramos analíticamente para $N\\to\\infty$. Esto es $I_{1,1}\\to 1/4$.\n",
    "\n",
    "Debemos notar que, aún cuando el solver usado en este ejemplo es efectivo, es un solver general que  <strong>no</strong> toma ventaja del hecho que $\\mathcal{A}$ es una matriz rala o dispersa (sparse, en inglés).\n",
    "\n",
    "Si $\\mathcal{A}$ es realmente grande, este solver se volverá muy lento ya que itera innecesariamente sobre todos los elementos nulos en la matriz. Como alternativa, se puede usar el paquete <i>Scientific Python Sparse Linear Algebra</i>. Sin embargo, este módulo requiere que $\\mathcal{A}$ sea almacenada en una forma específica."
   ]
  },
  {
   "cell_type": "code",
   "execution_count": 30,
   "metadata": {},
   "outputs": [
    {
     "name": "stdout",
     "output_type": "stream",
     "text": [
      "Tensiones =  [0.74895759 0.56032831 0.41839305 0.31132388 0.23019837 0.16825606\n",
      " 0.12033508 0.08244203 0.05141914 0.02468119]\n",
      "\n",
      "I_11     =  0.2510424133814533\n",
      "--- 0.004573345184326172 segundos ---\n"
     ]
    }
   ],
   "source": [
    "from scipy import sparse\n",
    "import scipy.sparse.linalg as ssl\n",
    "from scipy.sparse.linalg import spsolve\n",
    "\n",
    "\n",
    "# Dado que nuestra matriz solo tiene valores no nulos en \n",
    "# la DIAGONAL PRINCIPAL, la DIAGONAL SUPERIOR (sup) y la DIAGONAL INFERIOR (sub),\n",
    "# esto se lo debemos decir a Python .\n",
    "\n",
    "#Armamos la matriz rala\n",
    "\n",
    "sup_diag = np.ones(N)*c\n",
    "sub_diag = np.ones(N)*c\n",
    "the_diag = np.ones(N)*a\n",
    "\n",
    "# Offset:           -1     0        1\n",
    "all_diags  = [sub_diag, the_diag, sup_diag]\n",
    "offsets    = np.array([-1, 0, 1])\n",
    "\n",
    "\n",
    "csc=\"csc\" # Formato de computadora para almacenar la matriz\n",
    "\n",
    "# Ahora si definimos la matriz rala\n",
    "A_sparse = sparse.spdiags(all_diags, offsets, N,N, format=csc) \n",
    "#Busque el significado de esta linea en la documentacion de scipy\n",
    "\n",
    "\n",
    "#print(A_sparse.todense()) # prints the SPARSE matrix in a DENSE (normal NxN) format.\n",
    "start = time.time()\n",
    "\n",
    "Voltages = spsolve(A_sparse,b)\n",
    "print(\"Tensiones = \", Voltages)\n",
    "\n",
    "\n",
    "I11 = (V0 - Voltages[0])/R\n",
    "print(\"\\nI_11     = \", I11)\n",
    "\n",
    "end = time.time()\n",
    "print(\"--- %s segundos ---\" %(end - start))\n"
   ]
  },
  {
   "cell_type": "markdown",
   "metadata": {},
   "source": [
    "Ahora, intenten comparar los tiempos de ejecución de este solver con el estándar, a medidad que se incrementa $N$ a $10, 100, 1000, \\ldots$."
   ]
  },
  {
   "cell_type": "code",
   "execution_count": null,
   "metadata": {},
   "outputs": [],
   "source": []
  }
 ],
 "metadata": {
  "kernelspec": {
   "display_name": "Python 3",
   "language": "python",
   "name": "python3"
  },
  "language_info": {
   "codemirror_mode": {
    "name": "ipython",
    "version": 3
   },
   "file_extension": ".py",
   "mimetype": "text/x-python",
   "name": "python",
   "nbconvert_exporter": "python",
   "pygments_lexer": "ipython3",
   "version": "3.7.3"
  }
 },
 "nbformat": 4,
 "nbformat_minor": 1
}

