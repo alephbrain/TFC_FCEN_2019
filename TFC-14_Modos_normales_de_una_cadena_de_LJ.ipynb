{
 "cells": [
  {
   "cell_type": "markdown",
   "metadata": {},
   "source": [
    "# Taller de Física Computacional\n",
    "\n",
    "Carlos Ruestes / Cristián Sánchez - Taller de Física Computacional - FCEN - UNCUYO\n",
    "\n",
    "# Sesión 14: Modos normales de una cadena unidimensional de Lennard-Jones"
   ]
  },
  {
   "cell_type": "code",
   "execution_count": null,
   "metadata": {},
   "outputs": [],
   "source": [
    "import numpy as np\n",
    "import matplotlib.pyplot as plt\n",
    "import math as m\n",
    "import scipy.optimize as opt"
   ]
  },
  {
   "cell_type": "markdown",
   "metadata": {},
   "source": [
    "La cadena es la misma que la de la sesión anterior, definimos el potencial entre partículas y sus derivadas primera y segunda:"
   ]
  },
  {
   "cell_type": "code",
   "execution_count": null,
   "metadata": {},
   "outputs": [],
   "source": [
    "EPSILON = 10.0\n",
    "SIGMA = 2.5"
   ]
  },
  {
   "cell_type": "code",
   "execution_count": null,
   "metadata": {},
   "outputs": [],
   "source": [
    "def vlj(r):\n",
    "    return EPSILON*((SIGMA / r)**12 - 2*(SIGMA / r)**6) "
   ]
  },
  {
   "cell_type": "code",
   "execution_count": null,
   "metadata": {},
   "outputs": [],
   "source": [
    "def d_vlj(r):\n",
    "    return EPSILON*( 12*SIGMA**6*r**(-7) -12*SIGMA**12*r**(-13) )"
   ]
  },
  {
   "cell_type": "code",
   "execution_count": null,
   "metadata": {},
   "outputs": [],
   "source": [
    "def dd_vlj(r):\n",
    "    return EPSILON*(-84*SIGMA**6*r**(-8)+156*SIGMA**12*r**(-14))"
   ]
  },
  {
   "cell_type": "markdown",
   "metadata": {},
   "source": [
    "Definimos un número total de partículas y generamos una condición inicial para la optimización:"
   ]
  },
  {
   "cell_type": "code",
   "execution_count": null,
   "metadata": {},
   "outputs": [],
   "source": [
    "NPART = 50\n",
    "D_EQ = 2.431934945735542"
   ]
  },
  {
   "cell_type": "code",
   "execution_count": null,
   "metadata": {},
   "outputs": [],
   "source": [
    "xcoords = np.linspace(0.0,D_EQ*(NPART-1),num=NPART) + np.random.rand((NPART))*0.01"
   ]
  },
  {
   "cell_type": "markdown",
   "metadata": {},
   "source": [
    "La función para calcular las distancias en la recta real y sus derivadas primera y segunda:"
   ]
  },
  {
   "cell_type": "code",
   "execution_count": null,
   "metadata": {},
   "outputs": [],
   "source": [
    "def rij(xi,xj):\n",
    "    return abs(xj - xi)"
   ]
  },
  {
   "cell_type": "code",
   "execution_count": null,
   "metadata": {},
   "outputs": [],
   "source": [
    "def d_rij(xi,xj,k):\n",
    "    if (xi - xj) > 0.0 and k == 1:\n",
    "        return 1.0\n",
    "    elif (xi - xj) < 0.0 and k == 1:\n",
    "        return -1.0\n",
    "    elif (xi - xj) > 0.0 and k == 2:\n",
    "        return -1.0\n",
    "    elif (xi - xj) < 0.0 and k == 2:\n",
    "        return  1.0\n",
    "    else:\n",
    "        raise ValueError('k sólo puede ser 1 o 2.')"
   ]
  },
  {
   "cell_type": "code",
   "execution_count": null,
   "metadata": {},
   "outputs": [],
   "source": [
    "def dd_rij(xi,xj,k,l):\n",
    "    return 0.0"
   ]
  },
  {
   "cell_type": "markdown",
   "metadata": {},
   "source": [
    "En este caso, para obtener la geometría de equilibrio y los modos normales conectamos la cadena a dos puntos fijos con un resorte de alta constante de fuerza:"
   ]
  },
  {
   "cell_type": "code",
   "execution_count": null,
   "metadata": {},
   "outputs": [],
   "source": [
    "K = 1000"
   ]
  },
  {
   "cell_type": "markdown",
   "metadata": {},
   "source": [
    "Definimos funciones que calculan la energía total, su derivada respecto a la coordenada de una partícula y el vector gradiente:"
   ]
  },
  {
   "cell_type": "code",
   "execution_count": null,
   "metadata": {},
   "outputs": [],
   "source": [
    "def energy(xs,L):\n",
    "    energy = 0.0\n",
    "    for i in range(0,NPART):\n",
    "        for j in range(0,NPART):\n",
    "            if (i != j):\n",
    "                energy += vlj(rij(xs[i],xs[j]))\n",
    "    energy += 0.5 * K * (xs[0] - 0)**2\n",
    "    energy += 0.5 * K * (xs[NPART-1] - L)**2\n",
    "    return 0.5 * energy"
   ]
  },
  {
   "cell_type": "code",
   "execution_count": null,
   "metadata": {},
   "outputs": [],
   "source": [
    "def d_energy(xs,k,L):\n",
    "    denergy = 0.0\n",
    "    for i in range(0,NPART):\n",
    "        for j in range(0,NPART):\n",
    "            if (i != j):\n",
    "                if k == i:\n",
    "                    denergy += d_vlj(rij(xs[i],xs[j])) \\\n",
    "                    *d_rij(xs[i],xs[j],1)\n",
    "                elif k == j:\n",
    "                    denergy += d_vlj(rij(xs[i],xs[j])) \\\n",
    "                    *d_rij(xs[i],xs[j],2)   \n",
    "    if (k == 0):\n",
    "        denergy += K * (xs[0] - 0)\n",
    "    if (k == NPART-1):\n",
    "        denergy += K * (xs[NPART-1] - L)\n",
    "    return denergy"
   ]
  },
  {
   "cell_type": "code",
   "execution_count": null,
   "metadata": {},
   "outputs": [],
   "source": [
    "def grad_energy(xs,L):\n",
    "    gradient = np.zeros((NPART))\n",
    "    for i in range(0,NPART):\n",
    "        gradient[i] = d_energy(xs,i,L)\n",
    "    return gradient"
   ]
  },
  {
   "cell_type": "markdown",
   "metadata": {},
   "source": [
    "Optimizamos la geometría de la cadena para un largo en el que esté en tensión:"
   ]
  },
  {
   "cell_type": "code",
   "execution_count": null,
   "metadata": {},
   "outputs": [],
   "source": [
    "L = 122.16239314681823 * 1.006"
   ]
  },
  {
   "cell_type": "code",
   "execution_count": null,
   "metadata": {},
   "outputs": [],
   "source": [
    "res = opt.minimize(energy, xcoords, method='BFGS', tol = 1e-6, jac=grad_energy, args=(L,),\n",
    "                   options={'disp': True})\n",
    "res.success"
   ]
  },
  {
   "cell_type": "code",
   "execution_count": null,
   "metadata": {},
   "outputs": [],
   "source": [
    "equilibrio = res.x"
   ]
  },
  {
   "cell_type": "code",
   "execution_count": null,
   "metadata": {},
   "outputs": [],
   "source": [
    "print(equilibrio[0],equilibrio[NPART-1])"
   ]
  },
  {
   "cell_type": "markdown",
   "metadata": {},
   "source": [
    "Las siguientes son las fuerzas ejercidas por el resorte en las partículas de los extremos:"
   ]
  },
  {
   "cell_type": "code",
   "execution_count": null,
   "metadata": {},
   "outputs": [],
   "source": [
    "- K * equilibrio[0]"
   ]
  },
  {
   "cell_type": "code",
   "execution_count": null,
   "metadata": {},
   "outputs": [],
   "source": [
    "- K * (equilibrio[NPART-1] - L)"
   ]
  },
  {
   "cell_type": "code",
   "execution_count": null,
   "metadata": {},
   "outputs": [],
   "source": [
    "largo = equilibrio[NPART-1] - equilibrio[0]\n",
    "print(\"El largo de la cadena es \",largo)"
   ]
  },
  {
   "cell_type": "code",
   "execution_count": null,
   "metadata": {},
   "outputs": [],
   "source": [
    "plt.plot(grad_energy(equilibrio,L))"
   ]
  },
  {
   "cell_type": "code",
   "execution_count": null,
   "metadata": {},
   "outputs": [],
   "source": [
    "y = np.zeros_like(equilibrio) + 0.0\n",
    "plt.figure(figsize=(10.0,1.0))\n",
    "plt.plot(equilibrio,y,marker = \"o\")"
   ]
  },
  {
   "cell_type": "code",
   "execution_count": null,
   "metadata": {},
   "outputs": [],
   "source": [
    "xcoords = equilibrio"
   ]
  },
  {
   "cell_type": "markdown",
   "metadata": {},
   "source": [
    "La siguiente celda define una función que calcula la derivada segunda de la energía respecto a cada par de coordenadas"
   ]
  },
  {
   "cell_type": "code",
   "execution_count": null,
   "metadata": {},
   "outputs": [],
   "source": [
    "def dd_energy(xs,k,l):\n",
    "    ddenergy = 0.0\n",
    "    for i in range(0,NPART):\n",
    "        for j in range(0,NPART):\n",
    "            if (i != j):\n",
    "                if (k == i) and (l == i):\n",
    "                    ddenergy += dd_vlj(rij(xcoords[i],xcoords[j])) \\\n",
    "                                *d_rij(xcoords[i],xcoords[j],1)    \\\n",
    "                                *d_rij(xcoords[i],xcoords[j],1)    \\\n",
    "                                +d_vlj(rij(xcoords[i],xcoords[j])) \\\n",
    "                                *dd_rij(xcoords[i],xcoords[j],1,1)\n",
    "                elif (k == i) and (l == j):\n",
    "                    ddenergy += dd_vlj(rij(xcoords[i],xcoords[j])) \\\n",
    "                                *d_rij(xcoords[i],xcoords[j],2)    \\\n",
    "                                *d_rij(xcoords[i],xcoords[j],1)    \\\n",
    "                                +d_vlj(rij(xcoords[i],xcoords[j])) \\\n",
    "                                *dd_rij(xcoords[i],xcoords[j],2,1)\n",
    "                elif (k == j) and (l == i):\n",
    "                    ddenergy += dd_vlj(rij(xcoords[i],xcoords[j])) \\\n",
    "                                *d_rij(xcoords[i],xcoords[j],1)    \\\n",
    "                                *d_rij(xcoords[i],xcoords[j],2)    \\\n",
    "                                +d_vlj(rij(xcoords[i],xcoords[j])) \\\n",
    "                                *dd_rij(xcoords[i],xcoords[j],1,2)\n",
    "                elif (k == j) and (l == j):\n",
    "                    ddenergy += dd_vlj(rij(xcoords[i],xcoords[j])) \\\n",
    "                                *d_rij(xcoords[i],xcoords[j],2)    \\\n",
    "                                *d_rij(xcoords[i],xcoords[j],2)    \\\n",
    "                                +d_vlj(rij(xcoords[i],xcoords[j])) \\\n",
    "                                *dd_rij(xcoords[i],xcoords[j],2,2)\n",
    "    if (k==0) and (l==0):\n",
    "        ddenergy += K\n",
    "    elif (k==NPART-1) and (l==NPART-1):\n",
    "        ddenergy += K\n",
    "    return ddenergy"
   ]
  },
  {
   "cell_type": "markdown",
   "metadata": {},
   "source": [
    "## Cálculo de modos normales"
   ]
  },
  {
   "cell_type": "markdown",
   "metadata": {},
   "source": [
    "Si nos restringimos a movimientos pequeños de las partículas respecto a su posición de equilibrio podemos escribir la energía potencial del sistema de la forma\n",
    "\n",
    "$$ 2 V(q_1,\\ldots,q_n) = \\sum_{i,j=1}^N f_{ij} q_i q_j $$\n",
    "\n",
    "donde $q_i = \\Delta x_i = (x_i - x_i^0)$ y los $x_i^0$ son las posiciones en la geometría de equilibrio\n",
    "\n",
    "$$ f_{ij} = \\frac{\\partial V}{\\partial x_i \\partial x_j} $$\n",
    "\n",
    "A la expresión se llega haciendo una expansión en serie de la energía total en términos de los desplazamientos de las partículas respecto a su posición de equilibrio, y poniendo el cero de energía en la energía de equilibrio. Los términos que contienen a las derivadas primeras en la serie de Taylorr se anulan en la geometría de equilibrio.\n",
    "\n",
    "Si las masas se consideran unitarias la energía cinética toma la forma:\n",
    "\n",
    "$$ 2 T = \\sum_{i=1}^N \\dot{q}_i$$\n",
    "\n",
    "Las ecuaciones de movimiento de los desplazamientos $q_j$ pueden escribirse de la siguiente forma:\n",
    "\n",
    "$$ \\frac{d}{dt}\\frac{\\partial T}{\\partial \\dot{q}_j} - \\frac{\\partial V}{\\partial q_j} = 0 $$\n",
    "\n",
    "Sustituyendo las expresiones para las energías cinética y potencial tenemos el siguiente sistema de ecuaciones diferenciales acopladas de segundo orden para las funciones $q_j(t)$:\n",
    "\n",
    "$$ \\ddot{q}_j - \\sum_{i=1}^{N} f_{ij} q_j = 0 $$\n",
    "\n",
    "Proponiendo soluciones de la forma:\n",
    "\n",
    "$$ q_i(t) = A_i \\cos(\\omega^2 t + \\phi) $$\n",
    "\n",
    "y sustituyendo en el sistema de ecuaciones diferenciales se obtiene el conjunto de ecuaciones alegebráicas siguiente:\n",
    "\n",
    "$$ \\sum_{i=1}^{N} (f_{ij} -\\delta_{ij} \\omega^2) A_i = 0 $$\n",
    "\n",
    "donde $\\delta_{ij}$ es la delta de Kronecker que es igual a 1 si $i=j$ y cero si no. Este sistema de ecuaciones algebráicas es equivalente al problema de autovalores\n",
    "\n",
    "$$ \\mathbf{K} \\mathbf{A} = \\mathbf{\\omega}^2 \\mathbf{A} $$\n",
    "\n",
    "donde $\\mathbf{\\omega}^2$ es una matriz diagonal.\n",
    "\n",
    "La solución del probrema de autovalores da como resultado el conjunto de las frecuencias naturales del sistema (los autovalores) y el respectivo conjunto de desplazamientos para cada $\\omega$ contenido en los vectores columna de la matriz $\\mathbf{A}$.\n",
    "\n",
    "La siguiente función calcula la matriz Hessiana del sistema:"
   ]
  },
  {
   "cell_type": "code",
   "execution_count": null,
   "metadata": {},
   "outputs": [],
   "source": [
    "k_matrix = np.zeros((NPART,NPART))\n",
    "for i in range(0,NPART):\n",
    "    for j in range(0,NPART):\n",
    "        k_matrix[i,j] = dd_energy(xcoords,i,j)"
   ]
  },
  {
   "cell_type": "markdown",
   "metadata": {},
   "source": [
    "Aquí graficamos la matriz. Podemos ver que es (prácticamente) tridiagonal:"
   ]
  },
  {
   "cell_type": "code",
   "execution_count": null,
   "metadata": {},
   "outputs": [],
   "source": [
    "plt.imshow(k_matrix)"
   ]
  },
  {
   "cell_type": "markdown",
   "metadata": {},
   "source": [
    "En la siguiente sentencia se calculan los autovalores y autofunciones de la matriz Hessiana:"
   ]
  },
  {
   "cell_type": "code",
   "execution_count": null,
   "metadata": {},
   "outputs": [],
   "source": [
    "evals, evecs = np.linalg.eigh(k_matrix)"
   ]
  },
  {
   "cell_type": "markdown",
   "metadata": {},
   "source": [
    "En el siguiente gráfico se muestran los autovalores en orden creciente, salvo los dos modos de mayor frecuencia"
   ]
  },
  {
   "cell_type": "code",
   "execution_count": null,
   "metadata": {},
   "outputs": [],
   "source": [
    "plt.plot(np.sqrt(evals[0:NPART-2]))"
   ]
  },
  {
   "cell_type": "markdown",
   "metadata": {},
   "source": [
    "Aquí se amplía el detalle de los modos de baja frecuencia"
   ]
  },
  {
   "cell_type": "code",
   "execution_count": null,
   "metadata": {},
   "outputs": [],
   "source": [
    "plt.plot(np.sqrt(evals),marker=\"o\")\n",
    "plt.xlim(0,6)\n",
    "plt.ylim(0,9)"
   ]
  },
  {
   "cell_type": "markdown",
   "metadata": {},
   "source": [
    "Los desplazamientos correspondientes a los cuatro modos de menor frecuencia se grafican aquí:"
   ]
  },
  {
   "cell_type": "code",
   "execution_count": null,
   "metadata": {},
   "outputs": [],
   "source": [
    "plt.plot(evecs[:,0])\n",
    "plt.plot(evecs[:,1])\n",
    "plt.plot(evecs[:,2])\n",
    "plt.plot(evecs[:,3])"
   ]
  },
  {
   "cell_type": "markdown",
   "metadata": {},
   "source": [
    "Estas son las frecuencias y desplazamientos de los modos de mayor frecuencia"
   ]
  },
  {
   "cell_type": "code",
   "execution_count": null,
   "metadata": {},
   "outputs": [],
   "source": [
    "print(np.sqrt(evals[NPART-2]))\n",
    "print(np.sqrt(evals[NPART-1]))"
   ]
  },
  {
   "cell_type": "code",
   "execution_count": null,
   "metadata": {},
   "outputs": [],
   "source": [
    "plt.plot(evecs[:,NPART-2])\n",
    "plt.plot(evecs[:,NPART-1])"
   ]
  },
  {
   "cell_type": "markdown",
   "metadata": {},
   "source": [
    "Estas son las frecuencias de los cuatro primeros modos:"
   ]
  },
  {
   "cell_type": "code",
   "execution_count": null,
   "metadata": {},
   "outputs": [],
   "source": [
    "print(np.sqrt(evals[0]))\n",
    "print(np.sqrt(evals[1]))\n",
    "print(np.sqrt(evals[2]))\n",
    "print(np.sqrt(evals[3]))"
   ]
  },
  {
   "cell_type": "markdown",
   "metadata": {},
   "source": [
    "- ¿Cuál es la relación entre las frecuencias de los primeros modos?\n",
    "- ¿Porqué esa relación es válida sólo para los modos de menor frecuencia?\n",
    "- ¿Cómo depende la frecuencia del modo fundamental de la tensión de la cuerda?\n",
    "- ¿A qué movimientos corresponden los dos modos de mayor frecuencia? ¿Porqué están ahí?"
   ]
  }
 ],
 "metadata": {
  "@webio": {
   "lastCommId": null,
   "lastKernelId": null
  },
  "kernel_info": {
   "name": "python3"
  },
  "kernelspec": {
   "display_name": "Python 3",
   "language": "python",
   "name": "python3"
  },
  "language_info": {
   "codemirror_mode": {
    "name": "ipython",
    "version": 3
   },
   "file_extension": ".py",
   "mimetype": "text/x-python",
   "name": "python",
   "nbconvert_exporter": "python",
   "pygments_lexer": "ipython3",
   "version": "3.7.4"
  },
  "nteract": {
   "version": "0.15.0"
  }
 },
 "nbformat": 4,
 "nbformat_minor": 2
}
