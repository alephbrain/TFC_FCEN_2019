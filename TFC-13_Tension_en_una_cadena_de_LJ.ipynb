{
 "cells": [
  {
   "cell_type": "markdown",
   "metadata": {},
   "source": [
    "# Taller de Física Computacional\n",
    "\n",
    "Carlos Ruestes / Cristián Sánchez - Taller de Física Computacional - FCEN - UNCUYO\n",
    "\n",
    "# Sesión 13: Tensión en una cadena de Lennard-Jones"
   ]
  },
  {
   "cell_type": "code",
   "execution_count": null,
   "metadata": {},
   "outputs": [],
   "source": [
    "import numpy as np\n",
    "import matplotlib.pyplot as plt\n",
    "import math as m\n",
    "import scipy.optimize as opt"
   ]
  },
  {
   "cell_type": "markdown",
   "metadata": {},
   "source": [
    "Como un caso particular de un problema de optimización en este *notebook* encontramos la configuración de mínima energía para una cadena de \"atomos\" que interaccionan a través del potencial de [Lennard-Jones](https://en.wikipedia.org/wiki/Lennard-Jones_potential). \n",
    "\n",
    "El potencial de Lennard Jones entre dos átomos separados por una distancia $r$ tiene la forma\n",
    "\n",
    "$$ V_{\\mathrm{lj}}(r) = 4\\epsilon\\left[ \n",
    "           \\left( \\frac{\\sigma}{r} \\right)^{12} \n",
    "           -  \\left( \\frac{\\sigma}{r} \\right)^{6} \n",
    "           \\right] $$\n",
    "           \n",
    "donde los parámetros $\\sigma$ y $\\epsilon$ indican la profundidad del pozo de potencial y la distancia de equilibrio respectivamente."
   ]
  },
  {
   "cell_type": "code",
   "execution_count": null,
   "metadata": {},
   "outputs": [],
   "source": [
    "EPSILON = 10.0\n",
    "SIGMA = 2.5"
   ]
  },
  {
   "cell_type": "code",
   "execution_count": null,
   "metadata": {},
   "outputs": [],
   "source": [
    "def vlj(r):\n",
    "    return EPSILON*((SIGMA / r)**12 - 2*(SIGMA / r)**6) "
   ]
  },
  {
   "cell_type": "code",
   "execution_count": null,
   "metadata": {},
   "outputs": [],
   "source": [
    "plt.plot(np.linspace(2.1,5,100),vlj(np.linspace(2.1,5,100)))"
   ]
  },
  {
   "cell_type": "markdown",
   "metadata": {},
   "source": [
    "Como nos será necesaria definimos también la derivada del potencial respecto a la distancia interatómica"
   ]
  },
  {
   "cell_type": "code",
   "execution_count": null,
   "metadata": {},
   "outputs": [],
   "source": [
    "def d_vlj(r):\n",
    "    return EPSILON*( 12*SIGMA**6*r**(-7) -12*SIGMA**12*r**(-13) )"
   ]
  },
  {
   "cell_type": "markdown",
   "metadata": {},
   "source": [
    "Comenzamos generando una estructura inicial para una cadena unidimensional de `NPART` partículas"
   ]
  },
  {
   "cell_type": "code",
   "execution_count": null,
   "metadata": {},
   "outputs": [],
   "source": [
    "NPART = 25\n",
    "D_EQ = SIGMA"
   ]
  },
  {
   "cell_type": "code",
   "execution_count": null,
   "metadata": {},
   "outputs": [],
   "source": [
    "xcoords = np.linspace(0.0,D_EQ*(NPART-1),num=NPART)"
   ]
  },
  {
   "cell_type": "code",
   "execution_count": null,
   "metadata": {},
   "outputs": [],
   "source": [
    "xcoords"
   ]
  },
  {
   "cell_type": "markdown",
   "metadata": {},
   "source": [
    "Definimos la distancia en la recta entre un par de posiciones como el valor absoluto de la resta:"
   ]
  },
  {
   "cell_type": "code",
   "execution_count": null,
   "metadata": {},
   "outputs": [],
   "source": [
    "def rij(xi,xj):\n",
    "    return abs(xj - xi)"
   ]
  },
  {
   "cell_type": "markdown",
   "metadata": {},
   "source": [
    "La función `d_rij` calcula la derivada de la distancia respecto del primer o segundo parámetro:"
   ]
  },
  {
   "cell_type": "code",
   "execution_count": null,
   "metadata": {},
   "outputs": [],
   "source": [
    "def d_rij(xi,xj,k):\n",
    "    if (xi - xj) > 0.0 and k == 1:\n",
    "        return 1.0\n",
    "    elif (xi - xj) < 0.0 and k == 1:\n",
    "        return -1.0\n",
    "    elif (xi - xj) > 0.0 and k == 2:\n",
    "        return -1.0\n",
    "    elif (xi - xj) < 0.0 and k == 2:\n",
    "        return  1.0\n",
    "    else:\n",
    "        raise ValueError('k sólo puede ser 1 o 2.')"
   ]
  },
  {
   "cell_type": "markdown",
   "metadata": {},
   "source": [
    "La energía potencial total de la cadena es la semisuma sobre todos los pares de la interacción entre pares\n",
    "\n",
    "$$E(x_1,x_2,\\ldots,x_{\\mathrm{NPART}})) = \\sum_{i,j=1,i\\neq j}^{\\mathrm{NPART}}V_{\\mathrm{lj}}(r_{ij}) $$\n",
    "\n",
    "La implementación que usamos no es la más eficiente ya que contiene un bulce sobre **todos** los pares de partículas diferentes."
   ]
  },
  {
   "cell_type": "code",
   "execution_count": null,
   "metadata": {},
   "outputs": [],
   "source": [
    "def energy(xs):\n",
    "    energy = 0.0\n",
    "    for i in range(0,NPART):\n",
    "        for j in range(0,NPART):\n",
    "            if (i != j):\n",
    "                energy += vlj(rij(xs[i],xs[j]))\n",
    "    return 0.5 * energy"
   ]
  },
  {
   "cell_type": "markdown",
   "metadata": {},
   "source": [
    "- ¿Cómo podría hacerse más eficiente el cálculo de la energía?"
   ]
  },
  {
   "cell_type": "markdown",
   "metadata": {},
   "source": [
    "La siguiente función calcula la derivada parcial de la energía respecto de cada coordenada de la forma:\n",
    "\n",
    "$$\\frac{\\partial E}{\\partial x_i} = \\frac{d V}{d r_ij} \\frac{\\partial d(r_{ij})}{\\partial x_i}$$ \n",
    "\n",
    "o \n",
    "\n",
    "$$\\frac{\\partial E}{\\partial x_j} = \\frac{d V}{d r_ij} \\frac{\\partial d(r_{ij})}{\\partial x_j}$$ \n",
    "\n",
    "según corresponda y sumando. "
   ]
  },
  {
   "cell_type": "code",
   "execution_count": null,
   "metadata": {},
   "outputs": [],
   "source": [
    "def d_energy(xs,k):\n",
    "    denergy = 0.0\n",
    "    for i in range(0,NPART):\n",
    "        for j in range(0,NPART):\n",
    "            if (i != j):\n",
    "                if k == i:\n",
    "                    denergy += d_vlj(rij(xs[i],xs[j])) \\\n",
    "                    *d_rij(xs[i],xs[j],1)\n",
    "                elif k == j:\n",
    "                    denergy += d_vlj(rij(xs[i],xs[j])) \\\n",
    "                    *d_rij(xs[i],xs[j],2)   \n",
    "    return denergy"
   ]
  },
  {
   "cell_type": "markdown",
   "metadata": {},
   "source": [
    "Calcula el gradiente de la energía\n",
    "\n",
    "$$ \\nabla E = \\left( \\frac{\\partial E}{\\partial x_1}, \\frac{\\partial E}{\\partial x_2}, \\ldots,  \\frac{\\partial E}{\\partial x_{\\mathrm{NPART}}} \\right)$$"
   ]
  },
  {
   "cell_type": "code",
   "execution_count": null,
   "metadata": {},
   "outputs": [],
   "source": [
    "def grad_energy(xs):\n",
    "    gradient = np.zeros((NPART))\n",
    "    for i in range(0,NPART):\n",
    "        gradient[i] = d_energy(xs,i)\n",
    "    return gradient"
   ]
  },
  {
   "cell_type": "markdown",
   "metadata": {},
   "source": [
    "Llama al optimizador con el método `BFGS` una tolerancia de $10^{-5}$ para minimizar la enrgía. Pasamos la función energía y su gradiente como parámetros y un punto inicial:"
   ]
  },
  {
   "cell_type": "code",
   "execution_count": null,
   "metadata": {},
   "outputs": [],
   "source": [
    "res = opt.minimize(energy, xcoords, method='BFGS', tol=1e-5, jac=grad_energy)"
   ]
  },
  {
   "cell_type": "markdown",
   "metadata": {},
   "source": [
    "El resultado se encuentra el vector `res.x`"
   ]
  },
  {
   "cell_type": "code",
   "execution_count": null,
   "metadata": {},
   "outputs": [],
   "source": [
    "equilibrio = res.x"
   ]
  },
  {
   "cell_type": "markdown",
   "metadata": {},
   "source": [
    "El largo de equilibrio es la distancia entre la última partícula y la primera. Notar que el largo es levemente menor que la distancia de equilibrio entre pares, ¿Porqué?"
   ]
  },
  {
   "cell_type": "code",
   "execution_count": null,
   "metadata": {},
   "outputs": [],
   "source": [
    "largo = equilibrio[NPART-1] - equilibrio[0]"
   ]
  },
  {
   "cell_type": "code",
   "execution_count": null,
   "metadata": {},
   "outputs": [],
   "source": [
    "print(\"El largo de la cadena es \",largo)"
   ]
  },
  {
   "cell_type": "code",
   "execution_count": null,
   "metadata": {},
   "outputs": [],
   "source": [
    "y = np.zeros_like(equilibrio) + 0.0\n",
    "plt.figure(figsize=(10.0,1.0))\n",
    "plt.plot(equilibrio,y,marker = \"o\")"
   ]
  },
  {
   "cell_type": "markdown",
   "metadata": {},
   "source": [
    "En el siguiente gráfico se muestra la magnitud de cada elemento del gradiente en la geometría de equilibrio:"
   ]
  },
  {
   "cell_type": "code",
   "execution_count": null,
   "metadata": {},
   "outputs": [],
   "source": [
    "plt.plot(grad_energy(equilibrio))"
   ]
  },
  {
   "cell_type": "markdown",
   "metadata": {},
   "source": [
    "Ahora complicamos un poco más las cosas, queremos encontrar el mínimo de energía cuando la cadena está sometida a una teensión de forma que su largo sea un valor predeterminado. Esto implica una optimización de la energía con la restricción de que la primera coodenada es cero y la última el `largo`."
   ]
  },
  {
   "cell_type": "code",
   "execution_count": null,
   "metadata": {},
   "outputs": [],
   "source": [
    "strains = np.linspace(0.95,1.1,50) # Este vector contiene las deformaciones\n",
    "energies = np.zeros_like(strains)  # Este la energía para cada deformación\n",
    "forcesa = np.zeros_like(strains)   # la fuerza sobre el primer elemento de la cadena\n",
    "forcesb = np.zeros_like(strains)   # la fuerza sobre el último elemento\n",
    "coords = np.zeros((NPART,strains.shape[0])) # las coordenadas que minimizan la energía\n",
    "\n",
    "for i,strain in enumerate(strains):\n",
    "    #las restricciones se pasan en esta estructura de datos en forma de funciones anónimas\n",
    "    cons = ({'type': 'eq', 'fun': lambda x:  x[0] - 0.0},\n",
    "        {'type': 'eq', 'fun': lambda x:  x[NPART - 1] - largo * strain}) # explicar la segunda restricción\n",
    "    \n",
    "    # para cada deformación llamamos el optimizador con un método que permite restricciones sobre las variables\n",
    "    res = opt.minimize(energy, xcoords, method='SLSQP', tol=1e-5, jac=grad_energy, constraints=cons)\n",
    "    \n",
    "    #guardamos los resultados\n",
    "    energies[i] = energy(res.x) #la energía total\n",
    "    grad = grad_energy(res.x)  \n",
    "    forcesa[i] = - grad[0] # la fuerza ejercida sobre el primer elemento\n",
    "    forcesb[i] = - grad[NPART -1] #la fuerza ejercida sobre el último elemento\n",
    "    coords[:,i] = res.x # las coordenadas en el mínimo\n",
    "    print(i,res.success) # el paso y si el algoritmo fue exitoso o no\n",
    "    xcoords = res.x"
   ]
  },
  {
   "cell_type": "markdown",
   "metadata": {},
   "source": [
    "Aquí se grafica la energía en función de la deformación. Explique."
   ]
  },
  {
   "cell_type": "code",
   "execution_count": null,
   "metadata": {},
   "outputs": [],
   "source": [
    "plt.plot(strains,energies,marker=\"o\")"
   ]
  },
  {
   "cell_type": "markdown",
   "metadata": {},
   "source": [
    "Aquí se grafica la fuerza en función de la deformación, cuál es el régimen elástico, cuál el plástico? Explique la forma de la curva."
   ]
  },
  {
   "cell_type": "code",
   "execution_count": null,
   "metadata": {},
   "outputs": [],
   "source": [
    "plt.plot(strains,forcesa,marker=\"o\")\n",
    "plt.plot(strains,forcesb,marker=\"o\")"
   ]
  },
  {
   "cell_type": "markdown",
   "metadata": {},
   "source": [
    "Aquí se grafican las gometrías de equilibrio para cada deformación, la deformación es más grande para las cadenas que están más arriba. Explique."
   ]
  },
  {
   "cell_type": "code",
   "execution_count": null,
   "metadata": {},
   "outputs": [],
   "source": [
    "plt.figure(figsize=(10.0,10.0))\n",
    "for i,strain in enumerate(strains):\n",
    "    y = np.zeros_like(coords[:,i]) + i\n",
    "    plt.plot(coords[:,i],y,marker=\"o\")"
   ]
  },
  {
   "cell_type": "markdown",
   "metadata": {},
   "source": [
    "Para investigar:\n",
    "\n",
    "- ¿Cómo cambian las cosas si la cadena tiene más o menos partículas? Explique los resultados.\n",
    "- Determine el módulo de deformación de la cadena definido como $\\frac{\\mathrm{fuerza}}{\\mathrm{deformación}}$ para la geometría de equilibrio.\n",
    "- ¿Para qué rango de deformaciones se puede considerar que el sistema se comporta de forma elástica?\n",
    "- ¿Cómo cambian los regímenes elástico, plástico y tensión de ruptura con los parámetros del potencial interatómico?\n",
    "- Cree una nueva `notebook` reepitiendo los cálculos para un potencial armónico entre partículas."
   ]
  },
  {
   "cell_type": "code",
   "execution_count": null,
   "metadata": {},
   "outputs": [],
   "source": []
  }
 ],
 "metadata": {
  "@webio": {
   "lastCommId": null,
   "lastKernelId": null
  },
  "kernel_info": {
   "name": "python3"
  },
  "kernelspec": {
   "display_name": "Python 3",
   "language": "python",
   "name": "python3"
  },
  "language_info": {
   "codemirror_mode": {
    "name": "ipython",
    "version": 3
   },
   "file_extension": ".py",
   "mimetype": "text/x-python",
   "name": "python",
   "nbconvert_exporter": "python",
   "pygments_lexer": "ipython3",
   "version": "3.7.4"
  },
  "nteract": {
   "version": "0.15.0"
  }
 },
 "nbformat": 4,
 "nbformat_minor": 2
}
