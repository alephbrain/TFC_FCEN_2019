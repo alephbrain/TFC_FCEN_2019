{
 "cells": [
  {
   "cell_type": "markdown",
   "metadata": {},
   "source": [
    "# Taller de Física Computacional\n",
    "\n",
    "Carlos Ruestes / Cristián Sánchez - Taller de Física Computacional - FCEN - UNCUYO\n",
    "\n",
    "# Sesión 8: Ejercitación"
   ]
  },
  {
   "cell_type": "markdown",
   "metadata": {},
   "source": [
    "## Ejercitación:\n",
    "\n",
    "- Calcular una estimación al número $\\pi$ generando pares ordenados $(x,y)$ aleatorios en el cuadrado tal que $x\\in[-1,1]$ e $y\\in[-1,1]$ y calculando el cociente $\\pi\\approx\\frac{n_{\\mathrm{in}}}{n}$ donde $n$ es el número total de pares generados y $n_{\\mathrm{in}}$ es el número de pares que están dentro de un círculo de radio unitario alrededor del origen. \n",
    "    - ¿Porqué este cociente es una estimación del número $\\pi$?\n",
    "    - ¿Cuán grande tiene que ser la muestra para que la estimación sea correcta con una tolerancia de $10^{-3}$?\n",
    "    - ¿Y si la tolerancia es $10^{-4}$?\n",
    "    - Hacer un gráfico del valor absoluto del error en función del tamaño de la muestra.\n",
    "- Calcular el valor máximo, mínimo, la media y la desviación estándar de la distancia al origen para la muestra de puntos que caen dentro del círculo. Graficar estas cantidades en función del número de puntos en la muestra. No usar las funciones de `numpy` u otras, escribir un programa que las calcule.\n",
    "- Graficar un histograma de los valores de radio para la muestra, como en el punto anterior, escribir un programa que calcule el histograma. ¿Cómo se compara la distribución con la que se obtendría para una muestra infinita?"
   ]
  },
  {
   "cell_type": "code",
   "execution_count": null,
   "metadata": {},
   "outputs": [],
   "source": []
  }
 ],
 "metadata": {
  "kernelspec": {
   "display_name": "Python 3",
   "language": "python",
   "name": "python3"
  },
  "language_info": {
   "codemirror_mode": {
    "name": "ipython",
    "version": 3
   },
   "file_extension": ".py",
   "mimetype": "text/x-python",
   "name": "python",
   "nbconvert_exporter": "python",
   "pygments_lexer": "ipython3",
   "version": "3.7.4"
  }
 },
 "nbformat": 4,
 "nbformat_minor": 2
}
