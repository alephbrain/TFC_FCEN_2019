{
 "cells": [
  {
   "cell_type": "markdown",
   "metadata": {},
   "source": [
    "# Taller de Física Computacional\n",
    "\n",
    "Carlos Ruestes / Cristián Sánchez - Taller de Física Computacional - FCEN - UNCUYO\n",
    "\n",
    "# Sesión 14: Modos normales de una cadena unidimensional de dímeros"
   ]
  },
  {
   "cell_type": "code",
   "execution_count": null,
   "metadata": {},
   "outputs": [],
   "source": [
    "import numpy as np\n",
    "import matplotlib.pyplot as plt\n",
    "import math as m\n",
    "import scipy.optimize as opt"
   ]
  },
  {
   "cell_type": "markdown",
   "metadata": {},
   "source": [
    "Al igual que en los casos anteriores las partículas interacitúan por un potencial de Lennard-Jones, en este caso se ha disminuído significativamente el parámetro $\\epsilon$ para dar cuenta de la interacción débil entre dímeros enlazados químicamente:"
   ]
  },
  {
   "cell_type": "code",
   "execution_count": null,
   "metadata": {},
   "outputs": [],
   "source": [
    "EPSILON = 0.001\n",
    "SIGMA = 3.5"
   ]
  },
  {
   "cell_type": "code",
   "execution_count": null,
   "metadata": {},
   "outputs": [],
   "source": [
    "def vlj(r):\n",
    "    return EPSILON*((SIGMA / r)**12 - 2*(SIGMA / r)**6) "
   ]
  },
  {
   "cell_type": "code",
   "execution_count": null,
   "metadata": {},
   "outputs": [],
   "source": [
    "plt.plot(np.linspace(3,5,100),vlj(np.linspace(3,5,100)))"
   ]
  },
  {
   "cell_type": "code",
   "execution_count": null,
   "metadata": {},
   "outputs": [],
   "source": [
    "def d_vlj(r):\n",
    "    return EPSILON*( 12*SIGMA**6*r**(-7) -12*SIGMA**12*r**(-13) )"
   ]
  },
  {
   "cell_type": "code",
   "execution_count": null,
   "metadata": {},
   "outputs": [],
   "source": [
    "def dd_vlj(r):\n",
    "    return EPSILON*(-84*SIGMA**6*r**(-8)+156*SIGMA**12*r**(-14))"
   ]
  },
  {
   "cell_type": "markdown",
   "metadata": {},
   "source": [
    "Al potencial de Lennard-Jones ahora sumamos una interacción de tipo Morse con una distancia de equilibrio menor a la de Lennard-Jones para representar el enlace químico entre dímeros:"
   ]
  },
  {
   "cell_type": "code",
   "execution_count": null,
   "metadata": {},
   "outputs": [],
   "source": [
    "De = 30\n",
    "a = 2\n",
    "re = 1.2"
   ]
  },
  {
   "cell_type": "code",
   "execution_count": null,
   "metadata": {},
   "outputs": [],
   "source": [
    "def morse(r):\n",
    "    return De * (1 - np.exp(-a*(r-re)))**2 - De"
   ]
  },
  {
   "cell_type": "code",
   "execution_count": null,
   "metadata": {},
   "outputs": [],
   "source": [
    "plt.plot(np.linspace(0.8,5,100),morse(np.linspace(0.8,5,100)))"
   ]
  },
  {
   "cell_type": "code",
   "execution_count": null,
   "metadata": {},
   "outputs": [],
   "source": [
    "def d_morse(r):\n",
    "    return (2*a*De*(1 - np.exp(-(a*(r - re)))))/np.exp(a*(r - re))"
   ]
  },
  {
   "cell_type": "code",
   "execution_count": null,
   "metadata": {},
   "outputs": [],
   "source": [
    "def dd_morse(r):\n",
    "    return De*((2*a**2)/np.exp(2*a*(r - re)) - \n",
    "     (2*a**2*(1 - np.exp(-(a*(r - re)))))/np.exp(a*(r - re)))"
   ]
  },
  {
   "cell_type": "markdown",
   "metadata": {},
   "source": [
    "Como hemos hecho antes definimos el número total de partículas, la función de distancia en la recta, energía total, su derivada respecto a la coordenada de una partícula y el gradiente:"
   ]
  },
  {
   "cell_type": "code",
   "execution_count": null,
   "metadata": {},
   "outputs": [],
   "source": [
    "NPART = 50"
   ]
  },
  {
   "cell_type": "code",
   "execution_count": null,
   "metadata": {},
   "outputs": [],
   "source": [
    "def rij(xi,xj):\n",
    "    return abs(xj - xi)"
   ]
  },
  {
   "cell_type": "code",
   "execution_count": null,
   "metadata": {},
   "outputs": [],
   "source": [
    "def d_rij(xi,xj,k):\n",
    "    if (xi - xj) > 0.0 and k == 1:\n",
    "        return 1.0\n",
    "    elif (xi - xj) < 0.0 and k == 1:\n",
    "        return -1.0\n",
    "    elif (xi - xj) > 0.0 and k == 2:\n",
    "        return -1.0\n",
    "    elif (xi - xj) < 0.0 and k == 2:\n",
    "        return  1.0\n",
    "    else:\n",
    "        raise ValueError('k sólo puede ser 1 o 2.')"
   ]
  },
  {
   "cell_type": "code",
   "execution_count": null,
   "metadata": {},
   "outputs": [],
   "source": [
    "def dd_rij(xi,xj,k,l):\n",
    "    return 0.0"
   ]
  },
  {
   "cell_type": "code",
   "execution_count": null,
   "metadata": {},
   "outputs": [],
   "source": [
    "K = 1000"
   ]
  },
  {
   "cell_type": "code",
   "execution_count": null,
   "metadata": {},
   "outputs": [],
   "source": [
    "def energy(xs,L):\n",
    "    energy = 0.0\n",
    "    for i in range(0,NPART):\n",
    "        for j in range(0,NPART):\n",
    "            if (i != j):\n",
    "                energy += vlj(rij(xs[i],xs[j]))\n",
    "    for i in range(0,NPART):\n",
    "        for j in range(0,NPART):\n",
    "            if (i != j) and (i%2 == 0) and (j==i+1):\n",
    "                energy += morse(rij(xs[i],xs[j]))\n",
    "    energy += 0.5 * K * (xs[0] - 0)**2\n",
    "    energy += 0.5 * K * (xs[NPART-1] - L)**2\n",
    "    return 0.5 * energy"
   ]
  },
  {
   "cell_type": "code",
   "execution_count": null,
   "metadata": {},
   "outputs": [],
   "source": [
    "def d_energy(xs,k,L):\n",
    "    denergy = 0.0\n",
    "    for i in range(0,NPART):\n",
    "        for j in range(0,NPART):\n",
    "            if (i != j):\n",
    "                if k == i:\n",
    "                    denergy += d_vlj(rij(xs[i],xs[j])) \\\n",
    "                    *d_rij(xs[i],xs[j],1)\n",
    "                elif k == j:\n",
    "                    denergy += d_vlj(rij(xs[i],xs[j])) \\\n",
    "                    *d_rij(xs[i],xs[j],2) \n",
    "    for i in range(0,NPART):\n",
    "        for j in range(0,NPART):\n",
    "            if (i != j) and (i%2 == 0) and (j==i+1):\n",
    "                if k == i:\n",
    "                    denergy += d_morse(rij(xs[i],xs[j])) \\\n",
    "                    *d_rij(xs[i],xs[j],1)\n",
    "                elif k == j:\n",
    "                    denergy += d_morse(rij(xs[i],xs[j])) \\\n",
    "                    *d_rij(xs[i],xs[j],2) \n",
    "    if (k == 0):\n",
    "        denergy += K * (xs[0] - 0)\n",
    "    if (k == NPART-1):\n",
    "        denergy += K * (xs[NPART-1] - L)\n",
    "    return denergy"
   ]
  },
  {
   "cell_type": "code",
   "execution_count": null,
   "metadata": {},
   "outputs": [],
   "source": [
    "def grad_energy(xs,L):\n",
    "    gradient = np.zeros((NPART))\n",
    "    for i in range(0,NPART):\n",
    "        gradient[i] = d_energy(xs,i,L)\n",
    "    return gradient"
   ]
  },
  {
   "cell_type": "markdown",
   "metadata": {},
   "source": [
    "Construimos una geometría inicial para comenzar la optimización teniendo en cuenta que ahora hay dos distancias de equilibrio:"
   ]
  },
  {
   "cell_type": "code",
   "execution_count": null,
   "metadata": {},
   "outputs": [],
   "source": [
    "xcoords = np.zeros(NPART)\n",
    "xcoords[0] = 0.0\n",
    "for i in range(1,NPART):\n",
    "    if (i%2==1):\n",
    "        xcoords[i] = xcoords[i-1] + 1.87\n",
    "    else:\n",
    "        xcoords[i] = xcoords[i-1] + 3.45"
   ]
  },
  {
   "cell_type": "code",
   "execution_count": null,
   "metadata": {},
   "outputs": [],
   "source": [
    "y = np.zeros_like(xcoords) + 0.0\n",
    "plt.figure(figsize=(10.0,1.0))\n",
    "plt.plot(xcoords,y,marker = \"o\")"
   ]
  },
  {
   "cell_type": "code",
   "execution_count": null,
   "metadata": {},
   "outputs": [],
   "source": [
    "L = 129.48655989775992 * 1.008"
   ]
  },
  {
   "cell_type": "code",
   "execution_count": null,
   "metadata": {},
   "outputs": [],
   "source": [
    "res = opt.minimize(energy, xcoords, method='BFGS', tol = 1e-6, jac=grad_energy, args=(L,),\n",
    "                   options={'disp': True})\n",
    "res.success"
   ]
  },
  {
   "cell_type": "code",
   "execution_count": null,
   "metadata": {},
   "outputs": [],
   "source": [
    "equilibrio = res.x"
   ]
  },
  {
   "cell_type": "code",
   "execution_count": null,
   "metadata": {},
   "outputs": [],
   "source": [
    "xcoords = equilibrio"
   ]
  },
  {
   "cell_type": "code",
   "execution_count": null,
   "metadata": {},
   "outputs": [],
   "source": [
    "plt.plot(grad_energy(equilibrio,L))"
   ]
  },
  {
   "cell_type": "code",
   "execution_count": null,
   "metadata": {},
   "outputs": [],
   "source": [
    "y = np.zeros_like(equilibrio) + 0.0\n",
    "plt.figure(figsize=(10.0,1.0))\n",
    "plt.plot(equilibrio,y,marker = \"o\")"
   ]
  },
  {
   "cell_type": "code",
   "execution_count": null,
   "metadata": {},
   "outputs": [],
   "source": [
    "- K * equilibrio[0]"
   ]
  },
  {
   "cell_type": "code",
   "execution_count": null,
   "metadata": {},
   "outputs": [],
   "source": [
    "- K * (equilibrio[NPART-1] - L)"
   ]
  },
  {
   "cell_type": "code",
   "execution_count": null,
   "metadata": {},
   "outputs": [],
   "source": [
    "equilibrio[1]-equilibrio[0]"
   ]
  },
  {
   "cell_type": "code",
   "execution_count": null,
   "metadata": {},
   "outputs": [],
   "source": [
    "equilibrio[2]-equilibrio[1]"
   ]
  },
  {
   "cell_type": "code",
   "execution_count": null,
   "metadata": {},
   "outputs": [],
   "source": [
    "equilibrio[3]-equilibrio[2]"
   ]
  },
  {
   "cell_type": "code",
   "execution_count": null,
   "metadata": {},
   "outputs": [],
   "source": [
    "largo = equilibrio[NPART-1] - equilibrio[0]\n",
    "print(\"El largo de la cadena es \",largo)"
   ]
  },
  {
   "cell_type": "code",
   "execution_count": null,
   "metadata": {},
   "outputs": [],
   "source": [
    "def dd_energy(xs,k,l):\n",
    "    ddenergy = 0.0\n",
    "    for i in range(0,NPART):\n",
    "        for j in range(0,NPART):\n",
    "            if (i != j):\n",
    "                if (k == i) and (l == i):\n",
    "                    ddenergy += dd_vlj(rij(xcoords[i],xcoords[j])) \\\n",
    "                                *d_rij(xcoords[i],xcoords[j],1)    \\\n",
    "                                *d_rij(xcoords[i],xcoords[j],1)    \\\n",
    "                                +d_vlj(rij(xcoords[i],xcoords[j])) \\\n",
    "                                *dd_rij(xcoords[i],xcoords[j],1,1)\n",
    "                elif (k == i) and (l == j):\n",
    "                    ddenergy += dd_vlj(rij(xcoords[i],xcoords[j])) \\\n",
    "                                *d_rij(xcoords[i],xcoords[j],2)    \\\n",
    "                                *d_rij(xcoords[i],xcoords[j],1)    \\\n",
    "                                +d_vlj(rij(xcoords[i],xcoords[j])) \\\n",
    "                                *dd_rij(xcoords[i],xcoords[j],2,1)\n",
    "                elif (k == j) and (l == i):\n",
    "                    ddenergy += dd_vlj(rij(xcoords[i],xcoords[j])) \\\n",
    "                                *d_rij(xcoords[i],xcoords[j],1)    \\\n",
    "                                *d_rij(xcoords[i],xcoords[j],2)    \\\n",
    "                                +d_vlj(rij(xcoords[i],xcoords[j])) \\\n",
    "                                *dd_rij(xcoords[i],xcoords[j],1,2)\n",
    "                elif (k == j) and (l == j):\n",
    "                    ddenergy += dd_vlj(rij(xcoords[i],xcoords[j])) \\\n",
    "                                *d_rij(xcoords[i],xcoords[j],2)    \\\n",
    "                                *d_rij(xcoords[i],xcoords[j],2)    \\\n",
    "                                +d_vlj(rij(xcoords[i],xcoords[j])) \\\n",
    "                                *dd_rij(xcoords[i],xcoords[j],2,2)\n",
    "    for i in range(0,NPART):\n",
    "        for j in range(0,NPART):\n",
    "            if (i != j) and (i%2 == 0) and (j==i+1):\n",
    "                if (k == i) and (l == i):\n",
    "                    ddenergy += dd_morse(rij(xcoords[i],xcoords[j])) \\\n",
    "                                *d_rij(xcoords[i],xcoords[j],1)    \\\n",
    "                                *d_rij(xcoords[i],xcoords[j],1)    \\\n",
    "                                +d_morse(rij(xcoords[i],xcoords[j])) \\\n",
    "                                *dd_rij(xcoords[i],xcoords[j],1,1)\n",
    "                elif (k == i) and (l == j):\n",
    "                    ddenergy += dd_morse(rij(xcoords[i],xcoords[j])) \\\n",
    "                                *d_rij(xcoords[i],xcoords[j],2)    \\\n",
    "                                *d_rij(xcoords[i],xcoords[j],1)    \\\n",
    "                                +d_morse(rij(xcoords[i],xcoords[j])) \\\n",
    "                                *dd_rij(xcoords[i],xcoords[j],2,1)\n",
    "                elif (k == j) and (l == i):\n",
    "                    ddenergy += dd_morse(rij(xcoords[i],xcoords[j])) \\\n",
    "                                *d_rij(xcoords[i],xcoords[j],1)    \\\n",
    "                                *d_rij(xcoords[i],xcoords[j],2)    \\\n",
    "                                +d_morse(rij(xcoords[i],xcoords[j])) \\\n",
    "                                *dd_rij(xcoords[i],xcoords[j],1,2)\n",
    "                elif (k == j) and (l == j):\n",
    "                    ddenergy += dd_morse(rij(xcoords[i],xcoords[j])) \\\n",
    "                                *d_rij(xcoords[i],xcoords[j],2)    \\\n",
    "                                *d_rij(xcoords[i],xcoords[j],2)    \\\n",
    "                                +d_morse(rij(xcoords[i],xcoords[j])) \\\n",
    "                                *dd_rij(xcoords[i],xcoords[j],2,2) \n",
    "    if (k==0) and (l==0):\n",
    "        ddenergy += K\n",
    "    elif (k==NPART-1) and (l==NPART-1):\n",
    "        ddenergy += K\n",
    "    return ddenergy"
   ]
  },
  {
   "cell_type": "code",
   "execution_count": null,
   "metadata": {},
   "outputs": [],
   "source": [
    "k_matrix = np.zeros((NPART,NPART))\n",
    "for i in range(0,NPART):\n",
    "    for j in range(0,NPART):\n",
    "        k_matrix[i,j] = dd_energy(xcoords,i,j) "
   ]
  },
  {
   "cell_type": "code",
   "execution_count": null,
   "metadata": {},
   "outputs": [],
   "source": [
    "plt.imshow(k_matrix)"
   ]
  },
  {
   "cell_type": "code",
   "execution_count": null,
   "metadata": {},
   "outputs": [],
   "source": [
    "evals, evecs = np.linalg.eigh(k_matrix)"
   ]
  },
  {
   "cell_type": "code",
   "execution_count": null,
   "metadata": {},
   "outputs": [],
   "source": [
    "evals"
   ]
  },
  {
   "cell_type": "code",
   "execution_count": null,
   "metadata": {},
   "outputs": [],
   "source": [
    "plt.plot(np.sqrt(evals[0:23]),marker=\"o\")"
   ]
  },
  {
   "cell_type": "code",
   "execution_count": null,
   "metadata": {},
   "outputs": [],
   "source": [
    "plt.plot(np.sqrt(evals[25:NPART-2]),marker=\"o\")"
   ]
  },
  {
   "cell_type": "code",
   "execution_count": null,
   "metadata": {},
   "outputs": [],
   "source": [
    "plt.plot(np.sqrt(evals),marker=\"o\")\n",
    "plt.xlim(0,6)\n",
    "plt.ylim(0,0.06)"
   ]
  },
  {
   "cell_type": "code",
   "execution_count": null,
   "metadata": {},
   "outputs": [],
   "source": [
    "plt.plot(evecs[:,0])\n",
    "plt.plot(evecs[:,1])\n",
    "plt.plot(evecs[:,2])\n",
    "plt.plot(evecs[:,3])"
   ]
  },
  {
   "cell_type": "code",
   "execution_count": null,
   "metadata": {},
   "outputs": [],
   "source": [
    "plt.plot(evecs[:,25])"
   ]
  },
  {
   "cell_type": "code",
   "execution_count": null,
   "metadata": {},
   "outputs": [],
   "source": [
    "print(np.sqrt(evals[0]))\n",
    "print(np.sqrt(evals[1]))\n",
    "print(np.sqrt(evals[2]))\n",
    "print(np.sqrt(evals[3]))"
   ]
  },
  {
   "cell_type": "code",
   "execution_count": null,
   "metadata": {},
   "outputs": [],
   "source": [
    "print(np.sqrt(evals[25]))\n",
    "print(np.sqrt(evals[26]))\n",
    "print(np.sqrt(evals[27]))\n",
    "print(np.sqrt(evals[28]))"
   ]
  },
  {
   "cell_type": "code",
   "execution_count": null,
   "metadata": {},
   "outputs": [],
   "source": [
    "plt.plot(evecs[:,23])\n",
    "plt.plot(evecs[:,24])\n",
    "plt.plot(evecs[:,NPART-1])\n",
    "plt.plot(evecs[:,NPART-2])"
   ]
  },
  {
   "cell_type": "code",
   "execution_count": null,
   "metadata": {},
   "outputs": [],
   "source": [
    "print(np.sqrt(evals[23]))\n",
    "print(np.sqrt(evals[24]))\n",
    "print(np.sqrt(evals[25]))\n",
    "print(np.sqrt(evals[26]))"
   ]
  },
  {
   "cell_type": "code",
   "execution_count": null,
   "metadata": {},
   "outputs": [],
   "source": []
  }
 ],
 "metadata": {
  "@webio": {
   "lastCommId": null,
   "lastKernelId": null
  },
  "kernel_info": {
   "name": "python3"
  },
  "kernelspec": {
   "display_name": "Python 3",
   "language": "python",
   "name": "python3"
  },
  "language_info": {
   "codemirror_mode": {
    "name": "ipython",
    "version": 3
   },
   "file_extension": ".py",
   "mimetype": "text/x-python",
   "name": "python",
   "nbconvert_exporter": "python",
   "pygments_lexer": "ipython3",
   "version": "3.7.4"
  },
  "nteract": {
   "version": "0.15.0"
  }
 },
 "nbformat": 4,
 "nbformat_minor": 2
}
