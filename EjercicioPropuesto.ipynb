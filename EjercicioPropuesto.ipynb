{
 "cells": [
  {
   "cell_type": "markdown",
   "metadata": {},
   "source": [
    "# Ejercicio de Optimización"
   ]
  },
  {
   "cell_type": "markdown",
   "metadata": {},
   "source": [
    "Podemos definir un *problema de optimización* como el problema de encontrar el \"mejor\" elemento dentro de un posible conjunto (o dominio) en base a un criterio de cual elemento es mejor que otro. Un ejemplo muy común en muchas disciplinas es el encontrar los parámetros de una función que mejor \"ajustan\" un resultado experimental. "
   ]
  },
  {
   "cell_type": "markdown",
   "metadata": {},
   "source": [
    "En este ejercicio vamos a leer una tabla de datos, extraída de la tesis doctoral de Carlos Ruestes, y vamos a intentar ajustar una función de tipo sigmoidal."
   ]
  },
  {
   "cell_type": "code",
   "execution_count": 5,
   "metadata": {},
   "outputs": [],
   "source": [
    "import numpy as np\n",
    "import matplotlib.pyplot as plt"
   ]
  },
  {
   "cell_type": "code",
   "execution_count": 12,
   "metadata": {},
   "outputs": [
    {
     "name": "stdout",
     "output_type": "stream",
     "text": [
      "[[0.00884956 1.2997    ]\n",
      " [0.0254425  1.29551   ]\n",
      " [0.0420354  1.29341   ]\n",
      " [0.0586283  1.29132   ]\n",
      " [0.074115   1.29132   ]\n",
      " [0.0918142  1.28293   ]\n",
      " [0.109513   1.27246   ]\n",
      " [0.126106   1.24731   ]\n",
      " [0.140487   1.22216   ]\n",
      " [0.158186   1.18024   ]\n",
      " [0.175885   1.12784   ]\n",
      " [0.192478   1.08174   ]\n",
      " [0.207965   1.02305   ]\n",
      " [0.215708   1.00838   ]]\n"
     ]
    },
    {
     "data": {
      "text/plain": [
       "(14, 2)"
      ]
     },
     "execution_count": 12,
     "metadata": {},
     "output_type": "execute_result"
    }
   ],
   "source": [
    "datos = np.genfromtxt('tablatongravi.txt', delimiter=',')\n",
    "print(datos)\n",
    "np.shape(datos)"
   ]
  },
  {
   "cell_type": "markdown",
   "metadata": {},
   "source": [
    "Grafique los pares ordenados del listado anterior"
   ]
  },
  {
   "cell_type": "code",
   "execution_count": 13,
   "metadata": {},
   "outputs": [
    {
     "data": {
      "image/png": "[encoded data removed]",
      "text/plain": [
       "<Figure size 432x288 with 1 Axes>"
      ]
     },
     "metadata": {
      "needs_background": "light"
     },
     "output_type": "display_data"
    }
   ],
   "source": [
    "# Un gráfico rápido de los datos, \n",
    "plt.xlabel(r\"x [adim.]\")\n",
    "plt.ylabel(r\"y [adim.]\")\n",
    "plt.scatter(datos[:,0],datos[:,1])\n",
    "plt.show()"
   ]
  },
  {
   "cell_type": "markdown",
   "metadata": {},
   "source": [
    "El set de datos anterior presenta una distribución de tipo sigmoidal. El ejercicio propuesto consiste en realizar una optimización como la de la clase anterior, usando una función de la forma:\n",
    "\n",
    "\\begin{equation} \n",
    "y(x) = a+\\frac{b}{1+~e^{-\\frac{1}{d}(x-c)}},~d\\neq 0 \n",
    "\\end{equation}\n"
   ]
  },
  {
   "cell_type": "markdown",
   "metadata": {},
   "source": [
    "De acuerdo a una optimización realizada por Carlos, el resultado deberían ser parámetros aproximados a los siguientes valores: a = 0.9152, b = 0.3846, c = 0.1852 y d = −0.0293. "
   ]
  },
  {
   "cell_type": "markdown",
   "metadata": {},
   "source": [
    "Quien no haya hecho el ejercicio de la función de Rosenbrock, puede hacerlo al finalizar el ejercicio sugerido aquí."
   ]
  }
 ],
 "metadata": {
  "kernelspec": {
   "display_name": "Python 3",
   "language": "python",
   "name": "python3"
  },
  "language_info": {
   "codemirror_mode": {
    "name": "ipython",
    "version": 3
   },
   "file_extension": ".py",
   "mimetype": "text/x-python",
   "name": "python",
   "nbconvert_exporter": "python",
   "pygments_lexer": "ipython3",
   "version": "3.7.3"
  }
 },
 "nbformat": 4,
 "nbformat_minor": 2
}
