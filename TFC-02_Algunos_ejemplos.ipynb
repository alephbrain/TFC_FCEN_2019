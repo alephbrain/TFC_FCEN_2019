{
 "cells": [
  {
   "cell_type": "markdown",
   "metadata": {},
   "source": [
    "# Taller de Física Computacional\n",
    "\n",
    "# Sesión 2: Empezando a programar"
   ]
  },
  {
   "cell_type": "markdown",
   "metadata": {},
   "source": [
    "## Funciones definidas por intervalo\n",
    "\n",
    "Ahora vamos a integrar un poco todo eso que vimos en la Sesión 1. Vamos a escribir algunas funciones matemáticas. Epecemos por la función valor absoluto:\n",
    "$$\n",
    "|x| =\n",
    "\\left\\{\n",
    "\t\\begin{array}{ll}\n",
    "\t\tx  & \\mbox{if } x \\geq 0 \\\\\n",
    "\t\t-x & \\mbox{if } x < 0\n",
    "\t\\end{array}\n",
    "\\right.\n",
    "$$"
   ]
  },
  {
   "cell_type": "code",
   "execution_count": null,
   "metadata": {},
   "outputs": [],
   "source": [
    "def abs_val(x):\n",
    "    if x >= 0.0:\n",
    "        return x\n",
    "    else:\n",
    "        return -x"
   ]
  },
  {
   "cell_type": "code",
   "execution_count": null,
   "metadata": {},
   "outputs": [],
   "source": [
    "abs_val(-5.0)"
   ]
  },
  {
   "cell_type": "code",
   "execution_count": null,
   "metadata": {},
   "outputs": [],
   "source": [
    "abs_val(5.0)"
   ]
  },
  {
   "cell_type": "code",
   "execution_count": null,
   "metadata": {},
   "outputs": [],
   "source": [
    "abs_val(0.0)"
   ]
  },
  {
   "cell_type": "markdown",
   "metadata": {},
   "source": [
    "## La factorial\n",
    "\n",
    "Construyamos una función que nos devuelva la factorial de un número\n",
    "$$ n! = 1 \\times 2 \\times 3 \\times\\cdots\\times n$$"
   ]
  },
  {
   "cell_type": "code",
   "execution_count": null,
   "metadata": {},
   "outputs": [],
   "source": [
    "def factorial(n):\n",
    "    fact = 1\n",
    "    for i in range(2,n+1):\n",
    "        fact = fact * i\n",
    "    return fact"
   ]
  },
  {
   "cell_type": "code",
   "execution_count": null,
   "metadata": {},
   "outputs": [],
   "source": [
    "factorial(2)"
   ]
  },
  {
   "cell_type": "code",
   "execution_count": null,
   "metadata": {},
   "outputs": [],
   "source": [
    "factorial(45)"
   ]
  },
  {
   "cell_type": "code",
   "execution_count": null,
   "metadata": {},
   "outputs": [],
   "source": [
    "factorial(0) # funciona!!! porqué?"
   ]
  },
  {
   "cell_type": "code",
   "execution_count": null,
   "metadata": {},
   "outputs": [],
   "source": [
    "factorial(3.5)"
   ]
  },
  {
   "cell_type": "markdown",
   "metadata": {},
   "source": [
    "Acá va una versión recursiva:"
   ]
  },
  {
   "cell_type": "code",
   "execution_count": null,
   "metadata": {},
   "outputs": [],
   "source": [
    "def factorial_rec(n):\n",
    "    if n >= 1 :\n",
    "        return n*factorial_rec(n-1)\n",
    "    else:\n",
    "        return 1"
   ]
  },
  {
   "cell_type": "code",
   "execution_count": null,
   "metadata": {},
   "outputs": [],
   "source": [
    "factorial_rec(5)"
   ]
  },
  {
   "cell_type": "code",
   "execution_count": null,
   "metadata": {},
   "outputs": [],
   "source": [
    "factorial(45)"
   ]
  },
  {
   "cell_type": "code",
   "execution_count": null,
   "metadata": {},
   "outputs": [],
   "source": [
    "factorial_rec(3.5) # OJO"
   ]
  },
  {
   "cell_type": "code",
   "execution_count": null,
   "metadata": {},
   "outputs": [],
   "source": [
    "factorial(-5) # OJO"
   ]
  },
  {
   "cell_type": "markdown",
   "metadata": {},
   "source": [
    "Comparemos con la implementación de factorial de python en el paquete `math`:"
   ]
  },
  {
   "cell_type": "code",
   "execution_count": null,
   "metadata": {},
   "outputs": [],
   "source": [
    "import math"
   ]
  },
  {
   "cell_type": "code",
   "execution_count": null,
   "metadata": {},
   "outputs": [],
   "source": [
    "math.factorial(5)"
   ]
  },
  {
   "cell_type": "code",
   "execution_count": null,
   "metadata": {},
   "outputs": [],
   "source": [
    "math.factorial(45)"
   ]
  },
  {
   "cell_type": "code",
   "execution_count": null,
   "metadata": {},
   "outputs": [],
   "source": [
    "math.factorial(3.5)"
   ]
  },
  {
   "cell_type": "code",
   "execution_count": null,
   "metadata": {},
   "outputs": [],
   "source": [
    "math.factorial(-5)"
   ]
  },
  {
   "cell_type": "markdown",
   "metadata": {},
   "source": [
    "- ¿Qué diferencias puedes encontrar entre nuestras implementaciones y las del paquete `math`?\n",
    "- ¿En qué podría mejorarse nuestra implementación?\n",
    "- ¿Podrías proponer una implementación mejorada?"
   ]
  },
  {
   "cell_type": "markdown",
   "metadata": {},
   "source": [
    "## Evaluando una serie \n",
    "\n",
    "Ahora usemos nuestra factorial como bloque para construir una función que evalúe de la expansión de Taylor a orden $n$ de la función exponencial:\n",
    "$$\n",
    "e^x = 1 + \\frac{x}{1!} + \\frac{x^2}{2!} + \\frac{x^3}{3!} + \\cdots + \\frac{x^n}{n!} = \\sum_{i=0}^n \\frac{x^i}{i!}\n",
    "$$"
   ]
  },
  {
   "cell_type": "code",
   "execution_count": null,
   "metadata": {},
   "outputs": [],
   "source": [
    "def exp_approx(x,n):\n",
    "    resultado = 0\n",
    "    for i in range(n+1):\n",
    "        resultado += x**i / factorial(i)\n",
    "    return resultado"
   ]
  },
  {
   "cell_type": "markdown",
   "metadata": {},
   "source": [
    "Para comparar podemos usar la función exponencial que incluye python"
   ]
  },
  {
   "cell_type": "code",
   "execution_count": null,
   "metadata": {},
   "outputs": [],
   "source": [
    "exp(3.0)"
   ]
  },
  {
   "cell_type": "markdown",
   "metadata": {},
   "source": [
    "pero como vemos no está definida en en lenguaje, debemos cargar un **paquete** que contiene todas las funciones trascendentales"
   ]
  },
  {
   "cell_type": "code",
   "execution_count": null,
   "metadata": {},
   "outputs": [],
   "source": [
    "math.exp(3.0)"
   ]
  },
  {
   "cell_type": "code",
   "execution_count": null,
   "metadata": {},
   "outputs": [],
   "source": [
    "exp_approx(3.0,6)"
   ]
  },
  {
   "cell_type": "code",
   "execution_count": null,
   "metadata": {},
   "outputs": [],
   "source": [
    "exp_approx(3.0,35)"
   ]
  },
  {
   "cell_type": "markdown",
   "metadata": {},
   "source": [
    "podemos ser un poco más ambiciosos y pedir que la función nos devuelva una **función** que sea la aproximación de orden $n$"
   ]
  },
  {
   "cell_type": "code",
   "execution_count": null,
   "metadata": {},
   "outputs": [],
   "source": [
    "def exp_approx(n):\n",
    "    def approx(x):\n",
    "        resultado = 0\n",
    "        for i in range(n+1):\n",
    "            resultado += x**i / factorial(i)\n",
    "        return resultado\n",
    "    return approx"
   ]
  },
  {
   "cell_type": "code",
   "execution_count": null,
   "metadata": {},
   "outputs": [],
   "source": [
    "app20 = exp_approx(20)"
   ]
  },
  {
   "cell_type": "code",
   "execution_count": null,
   "metadata": {},
   "outputs": [],
   "source": [
    "app20(3.0)"
   ]
  },
  {
   "cell_type": "markdown",
   "metadata": {},
   "source": [
    "Te sugerimos desarrollar implementaciones que evalúen las series de Taylor hasta roden $n$ para las funciones $\\sin$ y $\\cos$."
   ]
  },
  {
   "cell_type": "markdown",
   "metadata": {},
   "source": [
    "## Evaluando una integral definida\n",
    "\n",
    "Así como podemos devolver funciones como resultado podemos consumir funciones como argumento. Armemos una función que me devuelva el valor de la integral definida de una función arbitraria $f$ en el intervalo cerrado $[a,b]$. Vamos a utilizar una aproximación numérica de la integral definida utilizando una suma finita como aproximación. Teniendo en cuenta que\n",
    "$$\n",
    "\\int_a^b f(\\tau)d\\tau = \\lim_{n \\rightarrow \\infty} \\sum_i= f(c_i) \\Delta x\n",
    "$$\n",
    "con una partición homogénea del intervalo $[a,b]$ tal que\n",
    "$$\n",
    "c_i = a + \\frac{(b-a)}{n} i\n",
    "$$\n",
    "y\n",
    "$$\n",
    "\\Delta x = \\frac{(b-a)}{n}\n",
    "$$\n",
    "Una función que calcula esta integral para una función arbitraria es la que sigue:"
   ]
  },
  {
   "cell_type": "code",
   "execution_count": null,
   "metadata": {},
   "outputs": [],
   "source": [
    "def integral_definida(f,a,b,n):\n",
    "    resultado = 0.0\n",
    "    delta_x = (b-a)/n\n",
    "    for i in range(n+1):\n",
    "        c_i = a + i * (b-a)/n\n",
    "        resultado += f(c_i) * delta_x\n",
    "    return resultado"
   ]
  },
  {
   "cell_type": "markdown",
   "metadata": {},
   "source": [
    "probemos calculando una fácil\n",
    "$$\n",
    "\\int_0^1 exp(x) = e - 1\n",
    "$$"
   ]
  },
  {
   "cell_type": "code",
   "execution_count": null,
   "metadata": {},
   "outputs": [],
   "source": [
    "math.e - 1"
   ]
  },
  {
   "cell_type": "code",
   "execution_count": null,
   "metadata": {},
   "outputs": [],
   "source": [
    "integral_definida(math.exp,0,1,20000)"
   ]
  },
  {
   "cell_type": "markdown",
   "metadata": {},
   "source": [
    "Claramente la aproximación a la integral no es muy buena, necesitamos muchísimos intervalos para que funcione, lo que es peor es que el error depende de donde la evaluemos, por ejemplo"
   ]
  },
  {
   "cell_type": "code",
   "execution_count": null,
   "metadata": {},
   "outputs": [],
   "source": [
    "integral_definida(math.exp,0,1,20000) - (math.e - 1)"
   ]
  },
  {
   "cell_type": "code",
   "execution_count": null,
   "metadata": {},
   "outputs": [],
   "source": [
    "integral_definida(math.exp,0,4,20000) - (math.exp(4) - 1)"
   ]
  },
  {
   "cell_type": "markdown",
   "metadata": {},
   "source": [
    "Queremos mejorar esto. Podemos hacerlo agregando un control de convergencia, incrementando el número de particiones hasta que una cierta tolerancia sea satizfecha de la siguiente manera:"
   ]
  },
  {
   "cell_type": "code",
   "execution_count": null,
   "metadata": {},
   "outputs": [],
   "source": [
    "def integral_definida2(f,a,b,tol):\n",
    "    \n",
    "    n = 100 # el valor inicial de particiones\n",
    "    resultado = 0.0\n",
    "    delta_x = (b-a)/n\n",
    "    for i in range(n+1):\n",
    "        c_i = a + i * (b-a)/n\n",
    "        resultado += f(c_i) * delta_x\n",
    "    \n",
    "    error = tol + 1.0\n",
    "     \n",
    "    while error > tol:\n",
    "        \n",
    "        n += 100\n",
    "        resultado_ant = resultado\n",
    "        \n",
    "        resultado = 0.0\n",
    "        delta_x = (b-a)/n\n",
    "        for i in range(n+1):\n",
    "            c_i = a + i * (b-a)/n\n",
    "            resultado += f(c_i) * delta_x\n",
    "        \n",
    "        error = abs(resultado_ant-resultado)\n",
    "        \n",
    "    print(\"Hice\",n,\"particiones con un error de\",error)\n",
    "    return resultado"
   ]
  },
  {
   "cell_type": "code",
   "execution_count": null,
   "metadata": {},
   "outputs": [],
   "source": [
    "def integral_definida2(f,a,b,tol):\n",
    "    \n",
    "    n = 0 # inicializamos n\n",
    "    error = 10 * tol # nos aseguramos de que corra al menos una iteración\n",
    "    resultado = 0.0 # inicializamos el resultado ¿Puece fallar esta inicialización?\n",
    "     \n",
    "    while error > tol:\n",
    "        \n",
    "        n += 100 # vamos a incrementar n de 100 a 100\n",
    "        resultado_ant = resultado\n",
    "        \n",
    "        resultado = 0.0\n",
    "        delta_x = (b-a)/n\n",
    "        for i in range(n+1):\n",
    "            c_i = a + i * (b-a)/n\n",
    "            resultado += f(c_i) * delta_x\n",
    "        \n",
    "        error = abs(resultado_ant-resultado)\n",
    "        \n",
    "    print(\"Hice\",n,\"particiones con un error de\",error)\n",
    "    return resultado"
   ]
  },
  {
   "cell_type": "code",
   "execution_count": null,
   "metadata": {},
   "outputs": [],
   "source": [
    "integral_definida2(math.exp,0,1,0.0000001) - (math.e - 1)"
   ]
  },
  {
   "cell_type": "code",
   "execution_count": null,
   "metadata": {},
   "outputs": [],
   "source": [
    "integral_definida2(math.exp,0,1,0.00001)  - (math.e - 1)"
   ]
  },
  {
   "cell_type": "markdown",
   "metadata": {},
   "source": [
    "## Para explorar:\n",
    "\n",
    "- ¿Porqué si bien la integral converge, no converge al valor correcto?\n",
    "- ¿Cómo podríamos mejorar la estimación?\n",
    "- Implementa una nueva rutina que dé una mejor estimación "
   ]
  },
  {
   "cell_type": "markdown",
   "metadata": {},
   "source": [
    "## Usando Scipy\n",
    "\n",
    "Una de las grandes ventajas del lenguaje Python es que existen una enorme variedad de librerías de funciones que resuelven una gran cantidad de problemas. En Python en general es bueno buscar y ver si el problema que estamos tratando de resolver no ha sido ya resuelto por alguien. No *reinventar la rueda*, en la jerga. Y aún en caso de que querramos reimplementar una solución por nuestra cuenta lo que existe puede servirnos para no cometer errores que otros ya han resuelto. \n",
    "\n",
    "El paquete [Scipy](https://docs.scipy.org/doc/scipy/reference/index.html) es tan grande que conviene pegar una mirada a la documentación para descubrir sus posibilidades. Claramente la integración numérica está implementada. Utilicemos ahora esa implementación para calcular la integral definida:"
   ]
  },
  {
   "cell_type": "code",
   "execution_count": null,
   "metadata": {},
   "outputs": [],
   "source": [
    "from scipy import integrate"
   ]
  },
  {
   "cell_type": "code",
   "execution_count": null,
   "metadata": {},
   "outputs": [],
   "source": [
    "integrate.quad(math.exp,0,1)[0]  - (math.e - 1)"
   ]
  },
  {
   "cell_type": "code",
   "execution_count": null,
   "metadata": {},
   "outputs": [],
   "source": [
    "integrate.quad(math.exp,0,1)"
   ]
  },
  {
   "cell_type": "markdown",
   "metadata": {},
   "source": [
    "El llamado nos devuelve una tupla con el valor de la integral y una estimación del error. La estimación del error es superior al error real, la idea es que ese sea el caso siempre para que podamos saber cuan correcto es el resultado. Como se puede ver la rutina de Scipy es mucho más rápida y precisa que nuestra implementación *naïve*. "
   ]
  },
  {
   "cell_type": "markdown",
   "metadata": {},
   "source": [
    "## Derivada numérica\n",
    "\n",
    "Construyamos ahora una función que nos devuelva la derivada numérica de una función arbitraria. Podemos utilizar distintos métodos, el más simple es una aproximación de dos puntos que utiliza la definición de la derivada. Teniendo en cuenta que \n",
    "\n",
    "$$f'(x) = \\lim_{h\\rightarrow 0} \\frac{f(x+h)-f(x)}{h}$$\n",
    "\n",
    "Podemos aproximar la derivada de la siguiente forma:\n",
    "\n",
    "$$f'(x) \\approx \\frac{f(x+h)-f(x)}{h}$$\n",
    "\n",
    "Probemos."
   ]
  },
  {
   "cell_type": "code",
   "execution_count": null,
   "metadata": {},
   "outputs": [],
   "source": [
    "def derivada(f,x,h):\n",
    "    return (f(x+h)-f(x))/h"
   ]
  },
  {
   "cell_type": "code",
   "execution_count": null,
   "metadata": {},
   "outputs": [],
   "source": [
    "derivada(math.exp,1,0.001)"
   ]
  },
  {
   "cell_type": "code",
   "execution_count": null,
   "metadata": {},
   "outputs": [],
   "source": [
    "math.e"
   ]
  },
  {
   "cell_type": "code",
   "execution_count": null,
   "metadata": {},
   "outputs": [],
   "source": [
    "derivada(math.exp,1,0.001) - math.e"
   ]
  },
  {
   "cell_type": "code",
   "execution_count": null,
   "metadata": {},
   "outputs": [],
   "source": [
    "derivada(math.exp,1,0.0001) - math.e"
   ]
  },
  {
   "cell_type": "code",
   "execution_count": null,
   "metadata": {},
   "outputs": [],
   "source": [
    "derivada(math.exp,1,0.00001) - math.e"
   ]
  },
  {
   "cell_type": "code",
   "execution_count": null,
   "metadata": {},
   "outputs": [],
   "source": [
    "derivada(math.exp,1,0.0000000000000001) - math.e"
   ]
  },
  {
   "cell_type": "markdown",
   "metadata": {},
   "source": [
    "- ¿Qué pasó ahí? \n",
    "- ¿Que estimación del *orden* del error puedes hacer en base a los resultados anteriores?\n",
    "- ¿Puedes encontrar una explicación de porqué salio tan mal en el último caso?"
   ]
  },
  {
   "cell_type": "markdown",
   "metadata": {},
   "source": [
    "Una mejor aproximación puede hacerse de la siguiente forma. Teniendo en cuenta que el desarrollo de Taylor de taylor de $f(h+x)$ y $f(x-h)$ son:\n",
    "\n",
    "$$ f(x+h) = f(x) + hf'(x) + \\frac{1}{2}h^2f''(x)+O(h^3)+\\cdots$$\n",
    "\n",
    "$$ f(x-h) = f(x) - hf'(x) + \\frac{1}{2}h^2f''(x)-O(h^3)+\\cdots$$\n",
    "\n",
    "Restando las dos ecuaciones tenemos que\n",
    "\n",
    "$$$f'(x) \\approx \\frac{f(x+h) - f(x-h)}{2h} $$"
   ]
  },
  {
   "cell_type": "code",
   "execution_count": null,
   "metadata": {},
   "outputs": [],
   "source": [
    "def derivada2(f,x,h):\n",
    "    return (f(x+h)-f(x-h))/2/h"
   ]
  },
  {
   "cell_type": "code",
   "execution_count": null,
   "metadata": {},
   "outputs": [],
   "source": [
    "derivada2(math.exp,1,0.001) - math.e"
   ]
  },
  {
   "cell_type": "code",
   "execution_count": null,
   "metadata": {},
   "outputs": [],
   "source": [
    "derivada2(math.exp,1,0.0001) - math.e"
   ]
  },
  {
   "cell_type": "markdown",
   "metadata": {},
   "source": [
    "- ¿Cual es es orden del error en esta aproximación en relación a $h$?\n",
    "- ¿Porqué esta estimación es mejor que la anterior?"
   ]
  },
  {
   "cell_type": "code",
   "execution_count": null,
   "metadata": {},
   "outputs": [],
   "source": [
    "for i in range(1,19):\n",
    "    h = 10**(-i)\n",
    "    print(h,derivada(math.exp,1,h) - math.e,derivada2(math.exp,1,h) - math.e)"
   ]
  },
  {
   "cell_type": "markdown",
   "metadata": {},
   "source": [
    "Podemos escribir los resultados de una forma más elegante utilizando el *método* `format` del tipo `string`:"
   ]
  },
  {
   "cell_type": "code",
   "execution_count": null,
   "metadata": {},
   "outputs": [],
   "source": [
    "for i in range(1,19):\n",
    "    h = 10**(-i)\n",
    "    ed1 = derivada(math.exp,1,h) - math.e\n",
    "    ed2 = derivada2(math.exp,1,h) - math.e\n",
    "    print(\"i = {3:2d}  h = {0:5.2e}  error1 = {1:9.2e}  error2 = {2:9.2e}\".format(h,ed1,ed2,i))"
   ]
  },
  {
   "cell_type": "markdown",
   "metadata": {},
   "source": [
    "- ¿Puedes explicar los valores de la tabla?"
   ]
  },
  {
   "cell_type": "code",
   "execution_count": null,
   "metadata": {},
   "outputs": [],
   "source": []
  }
 ],
 "metadata": {
  "@webio": {
   "lastCommId": null,
   "lastKernelId": null
  },
  "kernelspec": {
   "display_name": "Python 3",
   "language": "python",
   "name": "python3"
  },
  "language_info": {
   "codemirror_mode": {
    "name": "ipython",
    "version": 3
   },
   "file_extension": ".py",
   "mimetype": "text/x-python",
   "name": "python",
   "nbconvert_exporter": "python",
   "pygments_lexer": "ipython3",
   "version": "3.6.8"
  }
 },
 "nbformat": 4,
 "nbformat_minor": 2
}
