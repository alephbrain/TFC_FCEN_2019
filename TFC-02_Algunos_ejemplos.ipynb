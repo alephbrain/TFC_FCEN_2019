{
 "cells": [
  {
   "cell_type": "markdown",
   "metadata": {},
   "source": [
    "# Taller de Física Computacional\n",
    "\n",
    "# Sesión 2: Empezando a programar"
   ]
  },
  {
   "cell_type": "markdown",
   "metadata": {},
   "source": [
    "## Funciones definidas por intervalo\n",
    "\n",
    "Ahora vamos a integrar un poco todo eso que vimos en la Sesión 1. Vamos a escribir algunas funciones matemáticas. Epecemos por la función valor absoluto:\n",
    "$$\n",
    "|x| =\n",
    "\\left\\{\n",
    "\t\\begin{array}{ll}\n",
    "\t\tx  & \\mbox{if } x \\geq 0 \\\\\n",
    "\t\t-x & \\mbox{if } x < 0\n",
    "\t\\end{array}\n",
    "\\right.\n",
    "$$"
   ]
  },
  {
   "cell_type": "code",
   "execution_count": 1,
   "metadata": {},
   "outputs": [],
   "source": [
    "def abs_val(x):\n",
    "    if x >= 0.0:\n",
    "        return x\n",
    "    else:\n",
    "        return -x"
   ]
  },
  {
   "cell_type": "code",
   "execution_count": 2,
   "metadata": {},
   "outputs": [
    {
     "data": {
      "text/plain": [
       "5.0"
      ]
     },
     "execution_count": 2,
     "metadata": {},
     "output_type": "execute_result"
    }
   ],
   "source": [
    "abs_val(-5.0)"
   ]
  },
  {
   "cell_type": "code",
   "execution_count": 3,
   "metadata": {},
   "outputs": [
    {
     "data": {
      "text/plain": [
       "5.0"
      ]
     },
     "execution_count": 3,
     "metadata": {},
     "output_type": "execute_result"
    }
   ],
   "source": [
    "abs_val(5.0)"
   ]
  },
  {
   "cell_type": "code",
   "execution_count": 4,
   "metadata": {},
   "outputs": [
    {
     "data": {
      "text/plain": [
       "0.0"
      ]
     },
     "execution_count": 4,
     "metadata": {},
     "output_type": "execute_result"
    }
   ],
   "source": [
    "abs_val(0.0)"
   ]
  },
  {
   "cell_type": "markdown",
   "metadata": {},
   "source": [
    "## La factorial\n",
    "\n",
    "Construyamos una función que nos devuelva la factorial de un número\n",
    "$$ n! = 1 \\times 2 \\times 3 \\times\\cdots\\times n$$"
   ]
  },
  {
   "cell_type": "code",
   "execution_count": 5,
   "metadata": {},
   "outputs": [],
   "source": [
    "def factorial(n):\n",
    "    fact = 1\n",
    "    for i in range(2,n+1):\n",
    "        fact = fact * i\n",
    "    return fact"
   ]
  },
  {
   "cell_type": "code",
   "execution_count": 6,
   "metadata": {},
   "outputs": [
    {
     "data": {
      "text/plain": [
       "2"
      ]
     },
     "execution_count": 6,
     "metadata": {},
     "output_type": "execute_result"
    }
   ],
   "source": [
    "factorial(2)"
   ]
  },
  {
   "cell_type": "code",
   "execution_count": 7,
   "metadata": {},
   "outputs": [
    {
     "data": {
      "text/plain": [
       "119622220865480194561963161495657715064383733760000000000"
      ]
     },
     "execution_count": 7,
     "metadata": {},
     "output_type": "execute_result"
    }
   ],
   "source": [
    "factorial(45)"
   ]
  },
  {
   "cell_type": "code",
   "execution_count": 8,
   "metadata": {},
   "outputs": [
    {
     "data": {
      "text/plain": [
       "1"
      ]
     },
     "execution_count": 8,
     "metadata": {},
     "output_type": "execute_result"
    }
   ],
   "source": [
    "factorial(0) # funciona!!! porqué?"
   ]
  },
  {
   "cell_type": "code",
   "execution_count": 9,
   "metadata": {},
   "outputs": [
    {
     "ename": "TypeError",
     "evalue": "'float' object cannot be interpreted as an integer",
     "output_type": "error",
     "traceback": [
      "\u001b[0;31m---------------------------------------------------------------------------\u001b[0m",
      "\u001b[0;31mTypeError\u001b[0m                                 Traceback (most recent call last)",
      "\u001b[0;32m<ipython-input-9-24f344214769>\u001b[0m in \u001b[0;36m<module>\u001b[0;34m\u001b[0m\n\u001b[0;32m----> 1\u001b[0;31m \u001b[0mfactorial\u001b[0m\u001b[0;34m(\u001b[0m\u001b[0;36m3.5\u001b[0m\u001b[0;34m)\u001b[0m\u001b[0;34m\u001b[0m\u001b[0;34m\u001b[0m\u001b[0m\n\u001b[0m",
      "\u001b[0;32m<ipython-input-5-bb5f395eb620>\u001b[0m in \u001b[0;36mfactorial\u001b[0;34m(n)\u001b[0m\n\u001b[1;32m      1\u001b[0m \u001b[0;32mdef\u001b[0m \u001b[0mfactorial\u001b[0m\u001b[0;34m(\u001b[0m\u001b[0mn\u001b[0m\u001b[0;34m)\u001b[0m\u001b[0;34m:\u001b[0m\u001b[0;34m\u001b[0m\u001b[0;34m\u001b[0m\u001b[0m\n\u001b[1;32m      2\u001b[0m     \u001b[0mfact\u001b[0m \u001b[0;34m=\u001b[0m \u001b[0;36m1\u001b[0m\u001b[0;34m\u001b[0m\u001b[0;34m\u001b[0m\u001b[0m\n\u001b[0;32m----> 3\u001b[0;31m     \u001b[0;32mfor\u001b[0m \u001b[0mi\u001b[0m \u001b[0;32min\u001b[0m \u001b[0mrange\u001b[0m\u001b[0;34m(\u001b[0m\u001b[0;36m2\u001b[0m\u001b[0;34m,\u001b[0m\u001b[0mn\u001b[0m\u001b[0;34m+\u001b[0m\u001b[0;36m1\u001b[0m\u001b[0;34m)\u001b[0m\u001b[0;34m:\u001b[0m\u001b[0;34m\u001b[0m\u001b[0;34m\u001b[0m\u001b[0m\n\u001b[0m\u001b[1;32m      4\u001b[0m         \u001b[0mfact\u001b[0m \u001b[0;34m=\u001b[0m \u001b[0mfact\u001b[0m \u001b[0;34m*\u001b[0m \u001b[0mi\u001b[0m\u001b[0;34m\u001b[0m\u001b[0;34m\u001b[0m\u001b[0m\n\u001b[1;32m      5\u001b[0m     \u001b[0;32mreturn\u001b[0m \u001b[0mfact\u001b[0m\u001b[0;34m\u001b[0m\u001b[0;34m\u001b[0m\u001b[0m\n",
      "\u001b[0;31mTypeError\u001b[0m: 'float' object cannot be interpreted as an integer"
     ]
    }
   ],
   "source": [
    "factorial(3.5)"
   ]
  },
  {
   "cell_type": "markdown",
   "metadata": {},
   "source": [
    "Acá va una versión recursiva:"
   ]
  },
  {
   "cell_type": "code",
   "execution_count": 10,
   "metadata": {},
   "outputs": [],
   "source": [
    "def factorial_rec(n):\n",
    "    if n >= 1 :\n",
    "        return n*factorial_rec(n-1)\n",
    "    else:\n",
    "        return 1"
   ]
  },
  {
   "cell_type": "code",
   "execution_count": 11,
   "metadata": {},
   "outputs": [
    {
     "data": {
      "text/plain": [
       "120"
      ]
     },
     "execution_count": 11,
     "metadata": {},
     "output_type": "execute_result"
    }
   ],
   "source": [
    "factorial_rec(5)"
   ]
  },
  {
   "cell_type": "code",
   "execution_count": 12,
   "metadata": {},
   "outputs": [
    {
     "data": {
      "text/plain": [
       "119622220865480194561963161495657715064383733760000000000"
      ]
     },
     "execution_count": 12,
     "metadata": {},
     "output_type": "execute_result"
    }
   ],
   "source": [
    "factorial(45)"
   ]
  },
  {
   "cell_type": "code",
   "execution_count": 13,
   "metadata": {},
   "outputs": [
    {
     "data": {
      "text/plain": [
       "13.125"
      ]
     },
     "execution_count": 13,
     "metadata": {},
     "output_type": "execute_result"
    }
   ],
   "source": [
    "factorial_rec(3.5) # OJO"
   ]
  },
  {
   "cell_type": "code",
   "execution_count": 14,
   "metadata": {},
   "outputs": [
    {
     "data": {
      "text/plain": [
       "1"
      ]
     },
     "execution_count": 14,
     "metadata": {},
     "output_type": "execute_result"
    }
   ],
   "source": [
    "factorial(-5) # OJO"
   ]
  },
  {
   "cell_type": "markdown",
   "metadata": {},
   "source": [
    "Comparemos con la implementación de factorial de python en el paquete `math`:"
   ]
  },
  {
   "cell_type": "code",
   "execution_count": 15,
   "metadata": {},
   "outputs": [],
   "source": [
    "import math"
   ]
  },
  {
   "cell_type": "code",
   "execution_count": 16,
   "metadata": {},
   "outputs": [
    {
     "data": {
      "text/plain": [
       "120"
      ]
     },
     "execution_count": 16,
     "metadata": {},
     "output_type": "execute_result"
    }
   ],
   "source": [
    "math.factorial(5)"
   ]
  },
  {
   "cell_type": "code",
   "execution_count": 17,
   "metadata": {},
   "outputs": [
    {
     "data": {
      "text/plain": [
       "119622220865480194561963161495657715064383733760000000000"
      ]
     },
     "execution_count": 17,
     "metadata": {},
     "output_type": "execute_result"
    }
   ],
   "source": [
    "math.factorial(45)"
   ]
  },
  {
   "cell_type": "code",
   "execution_count": 18,
   "metadata": {},
   "outputs": [
    {
     "ename": "ValueError",
     "evalue": "factorial() only accepts integral values",
     "output_type": "error",
     "traceback": [
      "\u001b[0;31m---------------------------------------------------------------------------\u001b[0m",
      "\u001b[0;31mValueError\u001b[0m                                Traceback (most recent call last)",
      "\u001b[0;32m<ipython-input-18-b91e08f20c98>\u001b[0m in \u001b[0;36m<module>\u001b[0;34m\u001b[0m\n\u001b[0;32m----> 1\u001b[0;31m \u001b[0mmath\u001b[0m\u001b[0;34m.\u001b[0m\u001b[0mfactorial\u001b[0m\u001b[0;34m(\u001b[0m\u001b[0;36m3.5\u001b[0m\u001b[0;34m)\u001b[0m\u001b[0;34m\u001b[0m\u001b[0;34m\u001b[0m\u001b[0m\n\u001b[0m",
      "\u001b[0;31mValueError\u001b[0m: factorial() only accepts integral values"
     ]
    }
   ],
   "source": [
    "math.factorial(3.5)"
   ]
  },
  {
   "cell_type": "code",
   "execution_count": 19,
   "metadata": {},
   "outputs": [
    {
     "ename": "ValueError",
     "evalue": "factorial() not defined for negative values",
     "output_type": "error",
     "traceback": [
      "\u001b[0;31m---------------------------------------------------------------------------\u001b[0m",
      "\u001b[0;31mValueError\u001b[0m                                Traceback (most recent call last)",
      "\u001b[0;32m<ipython-input-19-a46d876612ec>\u001b[0m in \u001b[0;36m<module>\u001b[0;34m\u001b[0m\n\u001b[0;32m----> 1\u001b[0;31m \u001b[0mmath\u001b[0m\u001b[0;34m.\u001b[0m\u001b[0mfactorial\u001b[0m\u001b[0;34m(\u001b[0m\u001b[0;34m-\u001b[0m\u001b[0;36m5\u001b[0m\u001b[0;34m)\u001b[0m\u001b[0;34m\u001b[0m\u001b[0;34m\u001b[0m\u001b[0m\n\u001b[0m",
      "\u001b[0;31mValueError\u001b[0m: factorial() not defined for negative values"
     ]
    }
   ],
   "source": [
    "math.factorial(-5)"
   ]
  },
  {
   "cell_type": "markdown",
   "metadata": {},
   "source": [
    "- ¿Qué diferencias puedes encontrar entre nuestras implementaciones y las del paquete `math`?\n",
    "- ¿En qué podría mejorarse nuestra implementación?\n",
    "- ¿Podrías proponer una implementación mejorada?"
   ]
  },
  {
   "cell_type": "markdown",
   "metadata": {},
   "source": [
    "## Evaluando una serie \n",
    "\n",
    "Ahora usemos nuestra factorial como bloque para construir una función que evalúe de la expansión de Taylor a orden $n$ de la función exponencial:\n",
    "$$\n",
    "e^x = 1 + \\frac{x}{1!} + \\frac{x^2}{2!} + \\frac{x^3}{3!} + \\cdots + \\frac{x^n}{n!} = \\sum_{i=0}^n \\frac{x^i}{i!}\n",
    "$$"
   ]
  },
  {
   "cell_type": "code",
   "execution_count": 20,
   "metadata": {},
   "outputs": [],
   "source": [
    "def exp_approx(x,n):\n",
    "    resultado = 0\n",
    "    for i in range(n+1):\n",
    "        resultado += x**i / factorial(i)\n",
    "    return resultado"
   ]
  },
  {
   "cell_type": "markdown",
   "metadata": {},
   "source": [
    "Para comparar podemos usar la función exponencial que incluye python"
   ]
  },
  {
   "cell_type": "code",
   "execution_count": 21,
   "metadata": {},
   "outputs": [
    {
     "ename": "NameError",
     "evalue": "name 'exp' is not defined",
     "output_type": "error",
     "traceback": [
      "\u001b[0;31m---------------------------------------------------------------------------\u001b[0m",
      "\u001b[0;31mNameError\u001b[0m                                 Traceback (most recent call last)",
      "\u001b[0;32m<ipython-input-21-59854a9c7f5b>\u001b[0m in \u001b[0;36m<module>\u001b[0;34m\u001b[0m\n\u001b[0;32m----> 1\u001b[0;31m \u001b[0mexp\u001b[0m\u001b[0;34m(\u001b[0m\u001b[0;36m3.0\u001b[0m\u001b[0;34m)\u001b[0m\u001b[0;34m\u001b[0m\u001b[0;34m\u001b[0m\u001b[0m\n\u001b[0m",
      "\u001b[0;31mNameError\u001b[0m: name 'exp' is not defined"
     ]
    }
   ],
   "source": [
    "exp(3.0)"
   ]
  },
  {
   "cell_type": "markdown",
   "metadata": {},
   "source": [
    "pero como vemos no está definida en en lenguaje, debemos cargar un **paquete** que contiene todas las funciones trascendentales"
   ]
  },
  {
   "cell_type": "code",
   "execution_count": 22,
   "metadata": {},
   "outputs": [
    {
     "data": {
      "text/plain": [
       "20.085536923187668"
      ]
     },
     "execution_count": 22,
     "metadata": {},
     "output_type": "execute_result"
    }
   ],
   "source": [
    "math.exp(3.0)"
   ]
  },
  {
   "cell_type": "code",
   "execution_count": 23,
   "metadata": {},
   "outputs": [
    {
     "data": {
      "text/plain": [
       "19.412499999999998"
      ]
     },
     "execution_count": 23,
     "metadata": {},
     "output_type": "execute_result"
    }
   ],
   "source": [
    "exp_approx(3.0,6)"
   ]
  },
  {
   "cell_type": "code",
   "execution_count": 24,
   "metadata": {},
   "outputs": [
    {
     "data": {
      "text/plain": [
       "20.08553692318766"
      ]
     },
     "execution_count": 24,
     "metadata": {},
     "output_type": "execute_result"
    }
   ],
   "source": [
    "exp_approx(3.0,35)"
   ]
  },
  {
   "cell_type": "markdown",
   "metadata": {},
   "source": [
    "podemos ser un poco más ambiciosos y pedir que la función nos devuelva una **función** que sea la aproximación de orden $n$"
   ]
  },
  {
   "cell_type": "code",
   "execution_count": 25,
   "metadata": {},
   "outputs": [],
   "source": [
    "def exp_approx(n):\n",
    "    def approx(x):\n",
    "        resultado = 0\n",
    "        for i in range(n+1):\n",
    "            resultado += x**i / factorial(i)\n",
    "        return resultado\n",
    "    return approx"
   ]
  },
  {
   "cell_type": "code",
   "execution_count": 26,
   "metadata": {},
   "outputs": [],
   "source": [
    "app20 = exp_approx(20)"
   ]
  },
  {
   "cell_type": "code",
   "execution_count": 27,
   "metadata": {},
   "outputs": [
    {
     "data": {
      "text/plain": [
       "20.085536922950844"
      ]
     },
     "execution_count": 27,
     "metadata": {},
     "output_type": "execute_result"
    }
   ],
   "source": [
    "app20(3.0)"
   ]
  },
  {
   "cell_type": "markdown",
   "metadata": {},
   "source": [
    "Te sugerimos desarrollar implementaciones que evalúen las series de Taylor hasta roden $n$ para las funciones $\\sin$ y $\\cos$."
   ]
  },
  {
   "cell_type": "markdown",
   "metadata": {},
   "source": [
    "## Evaluando una integral definida\n",
    "\n",
    "Así como podemos devolver funciones como resultado podemos consumir funciones como argumento. Armemos una función que me devuelva el valor de la integral definida de una función arbitraria $f$ en el intervalo cerrado $[a,b]$. Vamos a utilizar una aproximación numérica de la integral definida utilizando una suma finita como aproximación. Teniendo en cuenta que\n",
    "$$\n",
    "\\int_a^b f(\\tau)d\\tau = \\lim_{n \\rightarrow \\infty} \\sum_i= f(c_i) \\Delta x\n",
    "$$\n",
    "con una partición homogénea del intervalo $[a,b]$ tal que\n",
    "$$\n",
    "c_i = a + \\frac{(b-a)}{n} i\n",
    "$$\n",
    "y\n",
    "$$\n",
    "\\Delta x = \\frac{(b-a)}{n}\n",
    "$$\n",
    "Una función que calcula esta integral para una función arbitraria es la que sigue:"
   ]
  },
  {
   "cell_type": "code",
   "execution_count": 28,
   "metadata": {},
   "outputs": [],
   "source": [
    "def integral_definida(f,a,b,n):\n",
    "    resultado = 0.0\n",
    "    delta_x = (b-a)/n\n",
    "    for i in range(n+1):\n",
    "        c_i = a + i * (b-a)/n\n",
    "        resultado += f(c_i) * delta_x\n",
    "    return resultado"
   ]
  },
  {
   "cell_type": "markdown",
   "metadata": {},
   "source": [
    "probemos calculando una fácil\n",
    "$$\n",
    "\\int_0^1 exp(x) = e - 1\n",
    "$$"
   ]
  },
  {
   "cell_type": "code",
   "execution_count": 29,
   "metadata": {},
   "outputs": [
    {
     "data": {
      "text/plain": [
       "1.718281828459045"
      ]
     },
     "execution_count": 29,
     "metadata": {},
     "output_type": "execute_result"
    }
   ],
   "source": [
    "math.e - 1"
   ]
  },
  {
   "cell_type": "code",
   "execution_count": 30,
   "metadata": {},
   "outputs": [
    {
     "data": {
      "text/plain": [
       "1.7183747858627332"
      ]
     },
     "execution_count": 30,
     "metadata": {},
     "output_type": "execute_result"
    }
   ],
   "source": [
    "integral_definida(math.exp,0,1,20000)"
   ]
  },
  {
   "cell_type": "markdown",
   "metadata": {},
   "source": [
    "Claramente la aproximación a la integral no es muy buena, necesitamos muchísimos intervalos para que funcione, lo que es peor es que el error depende de donde la evaluemos, por ejemplo"
   ]
  },
  {
   "cell_type": "code",
   "execution_count": 31,
   "metadata": {},
   "outputs": [
    {
     "data": {
      "text/plain": [
       "9.295740368808758e-05"
      ]
     },
     "execution_count": 31,
     "metadata": {},
     "output_type": "execute_result"
    }
   ],
   "source": [
    "integral_definida(math.exp,0,1,20000) - (math.e - 1)"
   ]
  },
  {
   "cell_type": "code",
   "execution_count": 32,
   "metadata": {},
   "outputs": [
    {
     "data": {
      "text/plain": [
       "0.0055599936640149394"
      ]
     },
     "execution_count": 32,
     "metadata": {},
     "output_type": "execute_result"
    }
   ],
   "source": [
    "integral_definida(math.exp,0,4,20000) - (math.exp(4) - 1)"
   ]
  },
  {
   "cell_type": "markdown",
   "metadata": {},
   "source": [
    "Queremos mejorar esto. Podemos hacerlo agregando un control de convergencia, incrementando el número de particiones hasta que una cierta tolerancia sea satizfecha de la siguiente manera:"
   ]
  },
  {
   "cell_type": "code",
   "execution_count": 33,
   "metadata": {},
   "outputs": [],
   "source": [
    "def integral_definida2(f,a,b,tol):\n",
    "    \n",
    "    n = 100 # el valor inicial de particiones\n",
    "    resultado = 0.0\n",
    "    delta_x = (b-a)/n\n",
    "    for i in range(n+1):\n",
    "        c_i = a + i * (b-a)/n\n",
    "        resultado += f(c_i) * delta_x\n",
    "    \n",
    "    error = tol + 1.0\n",
    "     \n",
    "    while error > tol:\n",
    "        \n",
    "        n += 100\n",
    "        resultado_ant = resultado\n",
    "        \n",
    "        resultado = 0.0\n",
    "        delta_x = (b-a)/n\n",
    "        for i in range(n+1):\n",
    "            c_i = a + i * (b-a)/n\n",
    "            resultado += f(c_i) * delta_x\n",
    "        \n",
    "        error = abs(resultado_ant-resultado)\n",
    "        \n",
    "    print(\"Hice\",n,\"particiones con un error de\",error)\n",
    "    return resultado"
   ]
  },
  {
   "cell_type": "code",
   "execution_count": 34,
   "metadata": {},
   "outputs": [],
   "source": [
    "def integral_definida2(f,a,b,tol):\n",
    "    \n",
    "    n = 0 # inicializamos n\n",
    "    error = 10 * tol # nos aseguramos de que corra al menos una iteración\n",
    "    resultado = 0.0 # inicializamos el resultado ¿Puece fallar esta inicialización?\n",
    "     \n",
    "    while error > tol:\n",
    "        \n",
    "        n += 100 # vamos a incrementar n de 100 a 100\n",
    "        resultado_ant = resultado\n",
    "        \n",
    "        resultado = 0.0\n",
    "        delta_x = (b-a)/n\n",
    "        for i in range(n+1):\n",
    "            c_i = a + i * (b-a)/n\n",
    "            resultado += f(c_i) * delta_x\n",
    "        \n",
    "        error = abs(resultado_ant-resultado)\n",
    "        \n",
    "    print(\"Hice\",n,\"particiones con un error de\",error)\n",
    "    return resultado"
   ]
  },
  {
   "cell_type": "code",
   "execution_count": 35,
   "metadata": {},
   "outputs": [
    {
     "name": "stdout",
     "output_type": "stream",
     "text": [
      "Hice 43200 particiones con un error de 9.98511109351341e-08\n"
     ]
    },
    {
     "data": {
      "text/plain": [
       "4.303574603370386e-05"
      ]
     },
     "execution_count": 35,
     "metadata": {},
     "output_type": "execute_result"
    }
   ],
   "source": [
    "integral_definida2(math.exp,0,1,0.0000001) - (math.e - 1)"
   ]
  },
  {
   "cell_type": "code",
   "execution_count": 36,
   "metadata": {},
   "outputs": [
    {
     "name": "stdout",
     "output_type": "stream",
     "text": [
      "Hice 4400 particiones con un error de 9.826674196133922e-06\n"
     ]
    },
    {
     "data": {
      "text/plain": [
       "0.00042253942214331985"
      ]
     },
     "execution_count": 36,
     "metadata": {},
     "output_type": "execute_result"
    }
   ],
   "source": [
    "integral_definida2(math.exp,0,1,0.00001)  - (math.e - 1)"
   ]
  },
  {
   "cell_type": "markdown",
   "metadata": {},
   "source": [
    "## Para explorar:\n",
    "\n",
    "- ¿Porqué si bien la integral converge, no converge al valor correcto?\n",
    "- ¿Cómo podríamos mejorar la estimación?\n",
    "- Implementa una nueva rutina que dé una mejor estimación "
   ]
  },
  {
   "cell_type": "markdown",
   "metadata": {},
   "source": [
    "## Usando Scipy\n",
    "\n",
    "Una de las grandes ventajas del lenguaje Python es que existen una enorme variedad de librerías de funciones que resuelven una gran cantidad de problemas. En Python en general es bueno buscar y ver si el problema que estamos tratando de resolver no ha sido ya resuelto por alguien. No *reinventar la rueda*, en la jerga. Y aún en caso de que querramos reimplementar una solución por nuestra cuenta lo que existe puede servirnos para no cometer errores que otros ya han resuelto. \n",
    "\n",
    "El paquete [Scipy](https://docs.scipy.org/doc/scipy/reference/index.html) es tan grande que conviene pegar una mirada a la documentación para descubrir sus posibilidades. Claramente la integración numérica está implementada. Utilicemos ahora esa implementación para calcular la integral definida:"
   ]
  },
  {
   "cell_type": "code",
   "execution_count": 37,
   "metadata": {},
   "outputs": [],
   "source": [
    "from scipy import integrate"
   ]
  },
  {
   "cell_type": "code",
   "execution_count": 38,
   "metadata": {},
   "outputs": [
    {
     "data": {
      "text/plain": [
       "2.220446049250313e-16"
      ]
     },
     "execution_count": 38,
     "metadata": {},
     "output_type": "execute_result"
    }
   ],
   "source": [
    "integrate.quad(math.exp,0,1)[0]  - (math.e - 1)"
   ]
  },
  {
   "cell_type": "code",
   "execution_count": 39,
   "metadata": {},
   "outputs": [
    {
     "data": {
      "text/plain": [
       "(1.7182818284590453, 1.9076760487502457e-14)"
      ]
     },
     "execution_count": 39,
     "metadata": {},
     "output_type": "execute_result"
    }
   ],
   "source": [
    "integrate.quad(math.exp,0,1)"
   ]
  },
  {
   "cell_type": "markdown",
   "metadata": {},
   "source": [
    "El llamado nos devuelve una tupla con el valor de la integral y una estimación del error. La estimación del error es superior al error real, la idea es que ese sea el caso siempre para que podamos saber cuan correcto es el resultado. Como se puede ver la rutina de Scipy es mucho más rápida y precisa que nuestra implementación *naïve*. "
   ]
  },
  {
   "cell_type": "markdown",
   "metadata": {},
   "source": [
    "## Derivada numérica\n",
    "\n",
    "Construyamos ahora una función que nos devuelva la derivada numérica de una función arbitraria. Podemos utilizar distintos métodos, el más simple es una aproximación de dos puntos que utiliza la definición de la derivada. Teniendo en cuenta que \n",
    "\n",
    "$$f'(x) = \\lim_{h\\rightarrow 0} \\frac{f(x+h)-f(x)}{h}$$\n",
    "\n",
    "Podemos aproximar la derivada de la siguiente forma:\n",
    "\n",
    "$$f'(x) \\approx \\frac{f(x+h)-f(x)}{h}$$\n",
    "\n",
    "Probemos."
   ]
  },
  {
   "cell_type": "code",
   "execution_count": 40,
   "metadata": {},
   "outputs": [],
   "source": [
    "def derivada(f,x,h):\n",
    "    return (f(x+h)-f(x))/h"
   ]
  },
  {
   "cell_type": "code",
   "execution_count": 41,
   "metadata": {},
   "outputs": [
    {
     "data": {
      "text/plain": [
       "2.7196414225332255"
      ]
     },
     "execution_count": 41,
     "metadata": {},
     "output_type": "execute_result"
    }
   ],
   "source": [
    "derivada(math.exp,1,0.001)"
   ]
  },
  {
   "cell_type": "code",
   "execution_count": 42,
   "metadata": {},
   "outputs": [
    {
     "data": {
      "text/plain": [
       "2.718281828459045"
      ]
     },
     "execution_count": 42,
     "metadata": {},
     "output_type": "execute_result"
    }
   ],
   "source": [
    "math.e"
   ]
  },
  {
   "cell_type": "code",
   "execution_count": 43,
   "metadata": {},
   "outputs": [
    {
     "data": {
      "text/plain": [
       "0.0013595940741804036"
      ]
     },
     "execution_count": 43,
     "metadata": {},
     "output_type": "execute_result"
    }
   ],
   "source": [
    "derivada(math.exp,1,0.001) - math.e"
   ]
  },
  {
   "cell_type": "code",
   "execution_count": 44,
   "metadata": {},
   "outputs": [
    {
     "data": {
      "text/plain": [
       "0.00013591862387896114"
      ]
     },
     "execution_count": 44,
     "metadata": {},
     "output_type": "execute_result"
    }
   ],
   "source": [
    "derivada(math.exp,1,0.0001) - math.e"
   ]
  },
  {
   "cell_type": "code",
   "execution_count": 45,
   "metadata": {},
   "outputs": [
    {
     "data": {
      "text/plain": [
       "1.3591497672216235e-05"
      ]
     },
     "execution_count": 45,
     "metadata": {},
     "output_type": "execute_result"
    }
   ],
   "source": [
    "derivada(math.exp,1,0.00001) - math.e"
   ]
  },
  {
   "cell_type": "code",
   "execution_count": 46,
   "metadata": {},
   "outputs": [
    {
     "data": {
      "text/plain": [
       "-2.718281828459045"
      ]
     },
     "execution_count": 46,
     "metadata": {},
     "output_type": "execute_result"
    }
   ],
   "source": [
    "derivada(math.exp,1,0.0000000000000001) - math.e"
   ]
  },
  {
   "cell_type": "markdown",
   "metadata": {},
   "source": [
    "- ¿Qué pasó ahí? \n",
    "- ¿Que estimación del *orden* del error puedes hacer en base a los resultados anteriores?\n",
    "- ¿Puedes encontrar una explicación de porqué salio tan mal en el último caso?"
   ]
  },
  {
   "cell_type": "markdown",
   "metadata": {},
   "source": [
    "Una mejor aproximación puede hacerse de la siguiente forma. Teniendo en cuenta que el desarrollo de Taylor de taylor de $f(h+x)$ y $f(x-h)$ son:\n",
    "\n",
    "$$ f(x+h) = f(x) + hf'(x) + \\frac{1}{2}h^2f''(x)+O(h^3)+\\cdots$$\n",
    "\n",
    "$$ f(x-h) = f(x) - hf'(x) + \\frac{1}{2}h^2f''(x)-O(h^3)+\\cdots$$\n",
    "\n",
    "Restando las dos ecuaciones tenemos que\n",
    "\n",
    "$$$f'(x) \\approx \\frac{f(x+h) - f(x-h)}{2h} $$"
   ]
  },
  {
   "cell_type": "code",
   "execution_count": 47,
   "metadata": {},
   "outputs": [],
   "source": [
    "def derivada2(f,x,h):\n",
    "    return (f(x+h)-f(x-h))/2/h"
   ]
  },
  {
   "cell_type": "code",
   "execution_count": 48,
   "metadata": {},
   "outputs": [
    {
     "data": {
      "text/plain": [
       "4.53046678838831e-07"
      ]
     },
     "execution_count": 48,
     "metadata": {},
     "output_type": "execute_result"
    }
   ],
   "source": [
    "derivada2(math.exp,1,0.001) - math.e"
   ]
  },
  {
   "cell_type": "code",
   "execution_count": 49,
   "metadata": {},
   "outputs": [
    {
     "data": {
      "text/plain": [
       "4.53056570037802e-09"
      ]
     },
     "execution_count": 49,
     "metadata": {},
     "output_type": "execute_result"
    }
   ],
   "source": [
    "derivada2(math.exp,1,0.0001) - math.e"
   ]
  },
  {
   "cell_type": "markdown",
   "metadata": {},
   "source": [
    "- ¿Cual es es orden del error en esta aproximación en relación a $h$?\n",
    "- ¿Porqué esta estimación es mejor que la anterior?"
   ]
  },
  {
   "cell_type": "code",
   "execution_count": 50,
   "metadata": {},
   "outputs": [
    {
     "name": "stdout",
     "output_type": "stream",
     "text": [
      "0.1 0.14056012641483795 0.00453273548837263\n",
      "0.01 0.01363682732807936 4.530492366905392e-05\n",
      "0.001 0.0013595940741804036 4.53046678838831e-07\n",
      "0.0001 0.00013591862387896114 4.53056570037802e-09\n",
      "1e-05 1.3591497672216235e-05 5.858691309867936e-11\n",
      "1e-06 1.3589715694983795e-06 -1.634572477371421e-10\n",
      "1e-07 1.3994668845995761e-07 5.858735718788921e-11\n",
      "1e-08 -6.60275079056305e-09 -6.60275079056305e-09\n",
      "1e-09 2.1544185413446826e-07 -6.60275079056305e-09\n",
      "1e-10 1.5477094836846561e-06 -6.72736565565657e-07\n",
      "1e-11 3.263395417318904e-05 1.0429493680685908e-05\n",
      "1e-12 0.0004323142430382454 0.00021026963811321409\n",
      "1e-13 -0.00045586417666187984 -0.00045586417666187984\n",
      "1e-14 -0.009337648373663132 -0.009337648373663132\n",
      "1e-15 0.3903426404913928 0.16829803556636147\n",
      "1e-16 -2.718281828459045 -2.718281828459045\n",
      "1e-17 -2.718281828459045 -2.718281828459045\n",
      "1e-18 -2.718281828459045 -2.718281828459045\n"
     ]
    }
   ],
   "source": [
    "for i in range(1,19):\n",
    "    h = 10**(-i)\n",
    "    print(h,derivada(math.exp,1,h) - math.e,derivada2(math.exp,1,h) - math.e)"
   ]
  },
  {
   "cell_type": "markdown",
   "metadata": {},
   "source": [
    "Podemos escribir los resultados de una forma más elegante utilizando el *método* `format` del tipo `string`:"
   ]
  },
  {
   "cell_type": "code",
   "execution_count": 51,
   "metadata": {},
   "outputs": [
    {
     "name": "stdout",
     "output_type": "stream",
     "text": [
      "i =  1  h = 1.00e-01  error1 =  1.41e-01  error2 =  4.53e-03\n",
      "i =  2  h = 1.00e-02  error1 =  1.36e-02  error2 =  4.53e-05\n",
      "i =  3  h = 1.00e-03  error1 =  1.36e-03  error2 =  4.53e-07\n",
      "i =  4  h = 1.00e-04  error1 =  1.36e-04  error2 =  4.53e-09\n",
      "i =  5  h = 1.00e-05  error1 =  1.36e-05  error2 =  5.86e-11\n",
      "i =  6  h = 1.00e-06  error1 =  1.36e-06  error2 = -1.63e-10\n",
      "i =  7  h = 1.00e-07  error1 =  1.40e-07  error2 =  5.86e-11\n",
      "i =  8  h = 1.00e-08  error1 = -6.60e-09  error2 = -6.60e-09\n",
      "i =  9  h = 1.00e-09  error1 =  2.15e-07  error2 = -6.60e-09\n",
      "i = 10  h = 1.00e-10  error1 =  1.55e-06  error2 = -6.73e-07\n",
      "i = 11  h = 1.00e-11  error1 =  3.26e-05  error2 =  1.04e-05\n",
      "i = 12  h = 1.00e-12  error1 =  4.32e-04  error2 =  2.10e-04\n",
      "i = 13  h = 1.00e-13  error1 = -4.56e-04  error2 = -4.56e-04\n",
      "i = 14  h = 1.00e-14  error1 = -9.34e-03  error2 = -9.34e-03\n",
      "i = 15  h = 1.00e-15  error1 =  3.90e-01  error2 =  1.68e-01\n",
      "i = 16  h = 1.00e-16  error1 = -2.72e+00  error2 = -2.72e+00\n",
      "i = 17  h = 1.00e-17  error1 = -2.72e+00  error2 = -2.72e+00\n",
      "i = 18  h = 1.00e-18  error1 = -2.72e+00  error2 = -2.72e+00\n"
     ]
    }
   ],
   "source": [
    "for i in range(1,19):\n",
    "    h = 10**(-i)\n",
    "    ed1 = derivada(math.exp,1,h) - math.e\n",
    "    ed2 = derivada2(math.exp,1,h) - math.e\n",
    "    print(\"i = {3:2d}  h = {0:5.2e}  error1 = {1:9.2e}  error2 = {2:9.2e}\".format(h,ed1,ed2,i))"
   ]
  },
  {
   "cell_type": "markdown",
   "metadata": {},
   "source": [
    "- ¿Puedes explicar los valores de la tabla?"
   ]
  },
  {
   "cell_type": "code",
   "execution_count": null,
   "metadata": {},
   "outputs": [],
   "source": []
  }
 ],
 "metadata": {
  "@webio": {
   "lastCommId": null,
   "lastKernelId": null
  },
  "kernelspec": {
   "display_name": "Python 3",
   "language": "python",
   "name": "python3"
  },
  "language_info": {
   "codemirror_mode": {
    "name": "ipython",
    "version": 3
   },
   "file_extension": ".py",
   "mimetype": "text/x-python",
   "name": "python",
   "nbconvert_exporter": "python",
   "pygments_lexer": "ipython3",
   "version": "3.7.4"
  }
 },
 "nbformat": 4,
 "nbformat_minor": 2
}
