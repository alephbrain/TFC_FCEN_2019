{
 "cells": [
  {
   "cell_type": "markdown",
   "metadata": {},
   "source": [
    "# Segundo Parcial: Taller de Física Computacional\n",
    "\n",
    "- Resuelva los ejercicios en este notebook\n",
    "- Comente el código de manera que sea legible para otra persona\n",
    "- Todas las celdas tienen que ejecutar sin error\n",
    "- Desarrolle la solución debajo de cada enunciado agregando las celdas que sean necesarias"
   ]
  },
  {
   "cell_type": "markdown",
   "metadata": {},
   "source": [
    "## Ejercicio 1 \n",
    "\n",
    "Puntaje = 30%\n",
    "\n",
    "Dada la función:\n",
    "\n",
    "$$ y = (x-3) x^3 - x$$\n",
    "\n",
    "- Encuentre la coordenada $x$ del mínimo."
   ]
  },
  {
   "cell_type": "code",
   "execution_count": null,
   "metadata": {},
   "outputs": [],
   "source": []
  },
  {
   "cell_type": "markdown",
   "metadata": {},
   "source": [
    "## Ejercicio 2\n",
    "\n",
    "Puntaje = 20%\n",
    "\n",
    "Dada la función\n",
    "\n",
    "$$ f(x,y) = x^2 + y^2 - 2x - y$$\n",
    "\n",
    "- Encuentre el par ordenado $(x,y)$ que la hace mínima"
   ]
  },
  {
   "cell_type": "code",
   "execution_count": null,
   "metadata": {},
   "outputs": [],
   "source": []
  },
  {
   "cell_type": "markdown",
   "metadata": {},
   "source": [
    "## Ejercicio 3\n",
    "\n",
    "Puntaje = 20%\n",
    "\n",
    "Encuentre los autovalores y autovectores de la matriz \n",
    "\n",
    "$$A = \\begin{bmatrix} \n",
    "0 & 1 & -3 \\\\\n",
    "1 & 0 & 2 \\\\\n",
    "-3 & 2 & 0\n",
    "\\end{bmatrix}$$"
   ]
  },
  {
   "cell_type": "code",
   "execution_count": null,
   "metadata": {},
   "outputs": [],
   "source": []
  },
  {
   "cell_type": "markdown",
   "metadata": {},
   "source": [
    "## Ejercicio 4\n",
    "\n",
    "Puntaje = 30%\n",
    "\n",
    "Grafique las curvas de nivel y el gradiente de la función\n",
    "\n",
    "$$ f(x,y) = \\cos(x)*\\sin(y) $$\n",
    "\n",
    "en el rectángulo tal que $x\\in(-\\pi,\\pi)$ e $y\\in(-\\pi,\\pi)$."
   ]
  },
  {
   "cell_type": "code",
   "execution_count": null,
   "metadata": {},
   "outputs": [],
   "source": []
  }
 ],
 "metadata": {
  "kernel_info": {
   "name": "python3"
  },
  "kernelspec": {
   "display_name": "Python 3",
   "language": "python",
   "name": "python3"
  },
  "language_info": {
   "codemirror_mode": {
    "name": "ipython",
    "version": 3
   },
   "file_extension": ".py",
   "mimetype": "text/x-python",
   "name": "python",
   "nbconvert_exporter": "python",
   "pygments_lexer": "ipython3",
   "version": "3.7.4"
  },
  "nteract": {
   "version": "0.15.0"
  }
 },
 "nbformat": 4,
 "nbformat_minor": 2
}
